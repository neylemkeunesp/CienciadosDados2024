{
  "cells": [
    {
      "cell_type": "markdown",
      "metadata": {
        "collapsed": false,
        "id": "TZPeea5oL8Ui"
      },
      "source": [
        "# Numpy"
      ]
    },
    {
      "cell_type": "markdown",
      "metadata": {
        "collapsed": false,
        "id": "nFgQBpHnL8Uk"
      },
      "source": [
        "Numpy é a biblioteca essencial para computação científica em Python. Ela fornece um objeto que é essencialmente uma\n",
        "_array_ multidimensional e métodos de  alto desempenho para trabalhar com esses _arrays_."
      ]
    },
    {
      "cell_type": "markdown",
      "metadata": {
        "collapsed": false,
        "id": "htQYU1AbL8Uk"
      },
      "source": [
        "## Arrays\n",
        "- Uma matriz numpy é uma tabela de valores, todos do mesmo tipo, e é indexada por uma tupla de inteiros não negativos.\n",
        "- O número de dimensões é o grau da matriz.\n",
        "- A forma de uma matriz é uma tupla de inteiros que dão o tamanho da matriz ao longo de cada dimensão.\n",
        "- Podemos inicializar matrizes numpy de listas concatenadas de Python e acessar elementos usando colchetes:"
      ]
    },
    {
      "cell_type": "code",
      "execution_count": 1,
      "metadata": {
        "id": "9VEiifgOL8Uk"
      },
      "outputs": [],
      "source": [
        "import numpy as np"
      ]
    },
    {
      "cell_type": "code",
      "execution_count": 2,
      "metadata": {
        "id": "ERY_Dt1gL8Ul",
        "outputId": "ab82265a-23b6-4a92-c36e-e6b09a7d1b3e",
        "colab": {
          "base_uri": "https://localhost:8080/"
        }
      },
      "outputs": [
        {
          "output_type": "execute_result",
          "data": {
            "text/plain": [
              "array([[ 1,  2,  3,  9],\n",
              "       [ 6,  5,  4, 20],\n",
              "       [ 2,  4,  5,  7]])"
            ]
          },
          "metadata": {},
          "execution_count": 2
        }
      ],
      "source": [
        "a= [[1,2,3,9], [6,5,4,20],[2,4,5,7]]\n",
        "matriz = np.array(a)\n",
        "matriz\n"
      ]
    },
    {
      "cell_type": "code",
      "execution_count": 3,
      "metadata": {
        "id": "iEQaJioFL8Um",
        "outputId": "9a2494e9-5003-4b97-91e9-c0629b862c5e",
        "colab": {
          "base_uri": "https://localhost:8080/"
        }
      },
      "outputs": [
        {
          "output_type": "execute_result",
          "data": {
            "text/plain": [
              "[[1, 2, 3, 9], [6, 5, 4, 20], [2, 4, 5, 7]]"
            ]
          },
          "metadata": {},
          "execution_count": 3
        }
      ],
      "source": [
        "a"
      ]
    },
    {
      "cell_type": "code",
      "execution_count": 4,
      "metadata": {
        "id": "XZXS0W02L8Um",
        "outputId": "06ee8585-bc61-4350-f020-67ef35c048a3",
        "colab": {
          "base_uri": "https://localhost:8080/"
        }
      },
      "outputs": [
        {
          "output_type": "execute_result",
          "data": {
            "text/plain": [
              "numpy.ndarray"
            ]
          },
          "metadata": {},
          "execution_count": 4
        }
      ],
      "source": [
        "type(matriz)\n"
      ]
    },
    {
      "cell_type": "code",
      "execution_count": 5,
      "metadata": {
        "id": "pzqr1gNTL8Um",
        "outputId": "117a6a6a-ad20-4bd4-df4d-f5cc85099580",
        "colab": {
          "base_uri": "https://localhost:8080/"
        }
      },
      "outputs": [
        {
          "output_type": "execute_result",
          "data": {
            "text/plain": [
              "list"
            ]
          },
          "metadata": {},
          "execution_count": 5
        }
      ],
      "source": [
        "type(a)"
      ]
    },
    {
      "cell_type": "code",
      "execution_count": 6,
      "metadata": {
        "id": "MR4B4sS3L8Um",
        "outputId": "74eb8ae1-20b2-4302-8ded-34b3e6285d5e",
        "colab": {
          "base_uri": "https://localhost:8080/"
        }
      },
      "outputs": [
        {
          "output_type": "execute_result",
          "data": {
            "text/plain": [
              "array([[ 1.,  2.,  3.,  9.],\n",
              "       [ 6.,  5.,  4., 20.],\n",
              "       [ 2.,  4.,  5.,  7.]])"
            ]
          },
          "metadata": {},
          "execution_count": 6
        }
      ],
      "source": [
        "matriz1 = np.array(a, float)\n",
        "matriz1"
      ]
    },
    {
      "cell_type": "markdown",
      "metadata": {
        "collapsed": false,
        "id": "Pc11RN2XL8Un"
      },
      "source": [
        "- Podemos verificar o número de linhas e colunas em nossos dados usando a propriedade `shape` de _arrays_ NumPy:"
      ]
    },
    {
      "cell_type": "code",
      "execution_count": 7,
      "metadata": {
        "id": "EtR0WGDjL8Un",
        "outputId": "e11c98b6-46ad-4451-a29e-d694a988f0e0",
        "colab": {
          "base_uri": "https://localhost:8080/"
        }
      },
      "outputs": [
        {
          "output_type": "execute_result",
          "data": {
            "text/plain": [
              "(3, 4)"
            ]
          },
          "metadata": {},
          "execution_count": 7
        }
      ],
      "source": [
        "matriz.shape"
      ]
    },
    {
      "cell_type": "markdown",
      "metadata": {
        "collapsed": false,
        "id": "0LWYEk8dL8Un"
      },
      "source": [
        "Para criar um vetor linha fazemos:\n"
      ]
    },
    {
      "cell_type": "code",
      "execution_count": 9,
      "metadata": {
        "id": "ceMG7IF3L8Un"
      },
      "outputs": [],
      "source": [
        "vetor_linha=np.array([[1,2,3]]) # cria um vetor linha"
      ]
    },
    {
      "cell_type": "code",
      "execution_count": 10,
      "metadata": {
        "id": "kvg2zF3hL8Un",
        "outputId": "ae817fde-d0da-479f-c6b8-8ed7a0576ef9",
        "colab": {
          "base_uri": "https://localhost:8080/"
        }
      },
      "outputs": [
        {
          "output_type": "execute_result",
          "data": {
            "text/plain": [
              "array([[1, 2, 3]])"
            ]
          },
          "metadata": {},
          "execution_count": 10
        }
      ],
      "source": [
        "vetor_linha"
      ]
    },
    {
      "cell_type": "code",
      "execution_count": 11,
      "metadata": {
        "id": "_3eAthPKL8Un"
      },
      "outputs": [],
      "source": [
        "b=np.array([1,2,3])"
      ]
    },
    {
      "cell_type": "code",
      "execution_count": null,
      "metadata": {
        "id": "CIM_maW1L8Un",
        "outputId": "153a2d4d-7de6-4f10-9c51-aaa017bb3a91"
      },
      "outputs": [
        {
          "data": {
            "text/plain": [
              "array([1, 2, 3])"
            ]
          },
          "execution_count": 11,
          "metadata": {},
          "output_type": "execute_result"
        }
      ],
      "source": [
        "b"
      ]
    },
    {
      "cell_type": "markdown",
      "metadata": {
        "collapsed": false,
        "id": "SFt-jZYXL8Un"
      },
      "source": [
        "Para criar um vetor coluna temos que fazer:\n"
      ]
    },
    {
      "cell_type": "code",
      "execution_count": 13,
      "metadata": {
        "id": "WMOkJI4TL8Un"
      },
      "outputs": [],
      "source": [
        "vetor_coluna=np.array([[1],[2],[3]])\n"
      ]
    },
    {
      "cell_type": "code",
      "execution_count": 14,
      "metadata": {
        "id": "5fsATN0dL8Un",
        "outputId": "d7d07adb-3124-4352-9aa4-989afa32aa79",
        "colab": {
          "base_uri": "https://localhost:8080/"
        }
      },
      "outputs": [
        {
          "output_type": "execute_result",
          "data": {
            "text/plain": [
              "array([[1],\n",
              "       [2],\n",
              "       [3]])"
            ]
          },
          "metadata": {},
          "execution_count": 14
        }
      ],
      "source": [
        "vetor_coluna"
      ]
    },
    {
      "cell_type": "code",
      "execution_count": 15,
      "metadata": {
        "id": "PM4hYVRBL8Un",
        "outputId": "3dba3c0b-9eeb-4a42-b49c-ba13573c0477",
        "colab": {
          "base_uri": "https://localhost:8080/"
        }
      },
      "outputs": [
        {
          "output_type": "execute_result",
          "data": {
            "text/plain": [
              "array([[1, 2, 3]])"
            ]
          },
          "metadata": {},
          "execution_count": 15
        }
      ],
      "source": [
        "vetor_coluna.T"
      ]
    },
    {
      "cell_type": "code",
      "execution_count": 16,
      "metadata": {
        "id": "R3RFgPC0L8Un",
        "outputId": "07423977-b922-4696-e806-f51faeedd8ba",
        "colab": {
          "base_uri": "https://localhost:8080/"
        }
      },
      "outputs": [
        {
          "output_type": "execute_result",
          "data": {
            "text/plain": [
              "array([[1],\n",
              "       [2],\n",
              "       [3]])"
            ]
          },
          "metadata": {},
          "execution_count": 16
        }
      ],
      "source": [
        "vetor_linha.T"
      ]
    },
    {
      "cell_type": "code",
      "execution_count": 17,
      "metadata": {
        "id": "x3WjOl8ML8Uo",
        "outputId": "70ec89c9-cca0-4a62-d1bf-45a8c58b50fe",
        "colab": {
          "base_uri": "https://localhost:8080/"
        }
      },
      "outputs": [
        {
          "output_type": "execute_result",
          "data": {
            "text/plain": [
              "array([1, 2, 3])"
            ]
          },
          "metadata": {},
          "execution_count": 17
        }
      ],
      "source": [
        "b.T"
      ]
    },
    {
      "cell_type": "code",
      "execution_count": 18,
      "metadata": {
        "id": "vvb_TucmL8Uo",
        "outputId": "2236e1b3-c820-4c13-b1e9-f97f12c4a9e5",
        "colab": {
          "base_uri": "https://localhost:8080/"
        }
      },
      "outputs": [
        {
          "output_type": "execute_result",
          "data": {
            "text/plain": [
              "array([[1, 2, 3],\n",
              "       [2, 4, 6],\n",
              "       [3, 6, 9]])"
            ]
          },
          "metadata": {},
          "execution_count": 18
        }
      ],
      "source": [
        "vetor_linha*vetor_coluna"
      ]
    },
    {
      "cell_type": "markdown",
      "metadata": {
        "collapsed": false,
        "id": "LKZ1oDMFL8Uo"
      },
      "source": [
        "### Matriz com zeros\n",
        "\n",
        "- Para começar, você pode criar uma matriz onde cada elemento é zero. O código a seguir criará uma matriz com 3 linhas e 4 colunas, onde cada elemento é 0 , usando `np.zeros`:"
      ]
    },
    {
      "cell_type": "code",
      "execution_count": 19,
      "metadata": {
        "id": "KVVdecjCL8Uo",
        "outputId": "e9664ce7-2d79-41b3-d0c2-3e4ded5fa8c2",
        "colab": {
          "base_uri": "https://localhost:8080/"
        }
      },
      "outputs": [
        {
          "output_type": "execute_result",
          "data": {
            "text/plain": [
              "array([[0., 0., 0., 0.],\n",
              "       [0., 0., 0., 0.],\n",
              "       [0., 0., 0., 0.]])"
            ]
          },
          "metadata": {},
          "execution_count": 19
        }
      ],
      "source": [
        "empty_array = np.zeros((3,4))\n",
        "empty_array"
      ]
    },
    {
      "cell_type": "code",
      "execution_count": 20,
      "metadata": {
        "id": "Aqj1qvJ5L8Uo",
        "outputId": "deb54a6b-1f12-454d-cec4-a418a54db675",
        "colab": {
          "base_uri": "https://localhost:8080/"
        }
      },
      "outputs": [
        {
          "output_type": "execute_result",
          "data": {
            "text/plain": [
              "array([[1., 1., 1., 1.],\n",
              "       [1., 1., 1., 1.],\n",
              "       [1., 1., 1., 1.]])"
            ]
          },
          "metadata": {},
          "execution_count": 20
        }
      ],
      "source": [
        "one_array = np.ones((3,4))\n",
        "one_array"
      ]
    },
    {
      "cell_type": "markdown",
      "metadata": {
        "collapsed": false,
        "id": "7P0FIJwJL8Uo"
      },
      "source": [
        "- É útil criar uma matriz com todos os elementos zero nos casos em que você precisa de uma matriz de tamanho fixo, mas ainda não tem nenhum valor para ela."
      ]
    },
    {
      "cell_type": "markdown",
      "metadata": {
        "collapsed": false,
        "id": "CtL0B9zFL8Uo"
      },
      "source": [
        "### Matriz de números aleatórios (Random)\n",
        "- É possível criar uma matriz onde cada elemento é um número aleatório usando `numpy.random.rand`. Veja o exemplo a seguir:"
      ]
    },
    {
      "cell_type": "code",
      "execution_count": 21,
      "metadata": {
        "id": "0CwMk3UxL8Uo"
      },
      "outputs": [],
      "source": [
        "randmat=np.random.rand(10,40)"
      ]
    },
    {
      "cell_type": "code",
      "execution_count": 22,
      "metadata": {
        "id": "o2-lRe3VL8Uo",
        "outputId": "ac115a30-8604-4068-cf8e-67f92522043f",
        "colab": {
          "base_uri": "https://localhost:8080/"
        }
      },
      "outputs": [
        {
          "output_type": "execute_result",
          "data": {
            "text/plain": [
              "(10, 40)"
            ]
          },
          "metadata": {},
          "execution_count": 22
        }
      ],
      "source": [
        "randmat[:].shape"
      ]
    },
    {
      "cell_type": "markdown",
      "metadata": {
        "collapsed": false,
        "id": "fT6CdC-9L8Uo"
      },
      "source": [
        "### Criando matriz com Reshape"
      ]
    },
    {
      "cell_type": "code",
      "execution_count": null,
      "metadata": {
        "id": "gawNp3bmL8Uo",
        "outputId": "4c24ff9f-c059-474e-c551-dcafb18e6eda"
      },
      "outputs": [
        {
          "name": "stdout",
          "output_type": "stream",
          "text": [
            "[[ 0  1  2  3]\n",
            " [ 4  5  6  7]\n",
            " [ 8  9 10 11]]\n"
          ]
        }
      ],
      "source": [
        "x = np.array(range(12)).reshape(3,4)\n",
        "print(x)"
      ]
    },
    {
      "cell_type": "markdown",
      "metadata": {
        "collapsed": false,
        "id": "l_sxGMUsL8Uo"
      },
      "source": [
        "### Índices e fatias\n",
        "- Para acessar um elemento de uma lista de dimensão $n$ é necessário fornecer o valor de n índices, ou seja, 2 índices para uma matriz bidimensional, 3 índices para uma matriz tridimensional e assim por diante.\n",
        "- Embora seja possível usar a mesma forma para acessar elementos de um array, uma forma mais eficiente é separando os valores por vírgulas, como a seguir:"
      ]
    },
    {
      "cell_type": "code",
      "execution_count": 23,
      "metadata": {
        "id": "R0ZM7W_KL8Uo",
        "outputId": "36c69282-6b81-4b83-9590-41da31419863",
        "colab": {
          "base_uri": "https://localhost:8080/"
        }
      },
      "outputs": [
        {
          "output_type": "execute_result",
          "data": {
            "text/plain": [
              "[[0, 1, 2, 3], [4, 5, 6, 7], [8, 9, 10, 11]]"
            ]
          },
          "metadata": {},
          "execution_count": 23
        }
      ],
      "source": [
        "lista = [[0, 1, 2, 3], [4, 5, 6, 7], [8, 9, 10, 11]]\n",
        "lista"
      ]
    },
    {
      "cell_type": "code",
      "execution_count": 24,
      "metadata": {
        "id": "bHX6h_bZL8Uo",
        "outputId": "e9d09a48-92c5-4307-b678-77a1f2d8b518",
        "colab": {
          "base_uri": "https://localhost:8080/"
        }
      },
      "outputs": [
        {
          "output_type": "execute_result",
          "data": {
            "text/plain": [
              "[[0, 1, 2, 3], [4, 5, 6, 7]]"
            ]
          },
          "metadata": {},
          "execution_count": 24
        }
      ],
      "source": [
        "lista[0:-1]"
      ]
    },
    {
      "cell_type": "code",
      "execution_count": 25,
      "metadata": {
        "id": "tena7pIbL8Uo",
        "outputId": "a2fc5ad8-7cfd-49c2-e907-80ee52a7f7d2",
        "colab": {
          "base_uri": "https://localhost:8080/"
        }
      },
      "outputs": [
        {
          "output_type": "execute_result",
          "data": {
            "text/plain": [
              "array([[ 0,  1,  2,  3],\n",
              "       [ 4,  5,  6,  7],\n",
              "       [ 8,  9, 10, 11]])"
            ]
          },
          "metadata": {},
          "execution_count": 25
        }
      ],
      "source": [
        "mat = np.array(lista)\n",
        "mat"
      ]
    },
    {
      "cell_type": "code",
      "execution_count": 27,
      "metadata": {
        "id": "vW5CkfT3L8Uo",
        "outputId": "464107ab-9bcb-4d43-812e-6d0cd32cf01a",
        "colab": {
          "base_uri": "https://localhost:8080/"
        }
      },
      "outputs": [
        {
          "output_type": "execute_result",
          "data": {
            "text/plain": [
              "array([4, 5, 6, 7])"
            ]
          },
          "metadata": {},
          "execution_count": 27
        }
      ],
      "source": [
        "mat[-2] ##Pegando penúltima linha"
      ]
    },
    {
      "cell_type": "code",
      "execution_count": null,
      "metadata": {
        "id": "USs0W6h2L8Uo",
        "outputId": "28e3b32e-6e4c-4c41-bef3-ffb14c352630"
      },
      "outputs": [
        {
          "data": {
            "text/plain": [
              "array([ 2,  6, 10])"
            ]
          },
          "execution_count": 8,
          "metadata": {},
          "output_type": "execute_result"
        }
      ],
      "source": [
        "mat[:,2]## Pegando a terceira coluna"
      ]
    },
    {
      "cell_type": "code",
      "execution_count": null,
      "metadata": {
        "id": "5BJmxEFBL8Uo",
        "outputId": "5c945dae-97cf-40a2-fd16-b5026c1cf9b0"
      },
      "outputs": [
        {
          "data": {
            "text/plain": [
              "array([[2, 3],\n",
              "       [6, 7]])"
            ]
          },
          "execution_count": 27,
          "metadata": {},
          "output_type": "execute_result"
        }
      ],
      "source": [
        "mat[0:2,2:]## Duas ultimas colunas e linhas"
      ]
    },
    {
      "cell_type": "markdown",
      "metadata": {
        "collapsed": false,
        "id": "Q5g7ZZ-GL8Ur"
      },
      "source": [
        "### Operações com arrays\n",
        "\n",
        "O NumPy oferece muito mais recursos que listas para operação e manipulação de arrays que facilitam a computação científica."
      ]
    },
    {
      "cell_type": "code",
      "execution_count": 28,
      "metadata": {
        "id": "FI7Z1sfvL8Ur",
        "outputId": "411f4f70-f9b0-4d54-fd72-0769f9861027",
        "colab": {
          "base_uri": "https://localhost:8080/"
        }
      },
      "outputs": [
        {
          "output_type": "stream",
          "name": "stdout",
          "text": [
            "Soma: [[1 4]\n",
            " [6 5]]\n",
            "Multiplicação: [[0 4]\n",
            " [9 4]]\n",
            "Divisão: [[0.   1.  ]\n",
            " [1.   0.25]]\n"
          ]
        }
      ],
      "source": [
        "a1 = np.array([[1,2],[3,4]])\n",
        "b1 = np.array([[0,2],[3,1]])\n",
        "soma=a1+b1\n",
        "multiplicacao=a1*b1\n",
        "divisao=b1/a1\n",
        "print('Soma:',soma)\n",
        "print('Multiplicação:',multiplicacao)\n",
        "print('Divisão:',divisao)"
      ]
    },
    {
      "cell_type": "code",
      "execution_count": null,
      "metadata": {
        "id": "TabJJX4zL8Ur",
        "outputId": "4c786691-5f8c-4eb1-d576-846c2a0d2896"
      },
      "outputs": [
        {
          "data": {
            "text/plain": [
              "[1, 2, 3, 1, 2, 3]"
            ]
          },
          "execution_count": 52,
          "metadata": {},
          "output_type": "execute_result"
        }
      ],
      "source": [
        "alista=[1,2,3]\n",
        "blista=[1,2,3]\n",
        "alista+blista"
      ]
    },
    {
      "cell_type": "code",
      "execution_count": 29,
      "metadata": {
        "id": "rSK6hPUWL8Ur",
        "outputId": "73e9b166-63eb-4274-baa8-5c8dd8f8d90e",
        "colab": {
          "base_uri": "https://localhost:8080/"
        }
      },
      "outputs": [
        {
          "output_type": "execute_result",
          "data": {
            "text/plain": [
              "array([[14]])"
            ]
          },
          "metadata": {},
          "execution_count": 29
        }
      ],
      "source": [
        "a=np.array([[1,2,3]])\n",
        "np.dot(a,a.T)"
      ]
    },
    {
      "cell_type": "code",
      "execution_count": 30,
      "metadata": {
        "id": "gFRGxHKBL8Ur"
      },
      "outputs": [],
      "source": [
        "a1=np.array([[1,2],[0,3]])\n",
        "b1=np.array([[0,1],[1,0]])"
      ]
    },
    {
      "cell_type": "code",
      "execution_count": 31,
      "metadata": {
        "id": "pAExmA1bL8Us",
        "outputId": "08692a10-15d7-43e1-b288-60eca886ed30",
        "colab": {
          "base_uri": "https://localhost:8080/"
        }
      },
      "outputs": [
        {
          "output_type": "execute_result",
          "data": {
            "text/plain": [
              "array([[0, 0],\n",
              "       [0, 0]])"
            ]
          },
          "metadata": {},
          "execution_count": 31
        }
      ],
      "source": [
        "a1*b1-b1*a1"
      ]
    },
    {
      "cell_type": "markdown",
      "metadata": {
        "collapsed": false,
        "id": "-b4tHf5PL8Us"
      },
      "source": [
        "### Operações entre arrays de tamanhos distintos\n",
        "- Em muitos casos, é necessário trabalhar com arrays com um número distinto de elementos, ou de formas diferentes. Nesse caso, é necessário entender as regras do NumPy que difundem as informações do array menor para o array maior.\n",
        "- O termo difusão (broadcasting) descreve como NumPy trata arrays de dimensões diferentes em operações aritméticas. O array menor é “difundido” a uma array maior para que tenham as mesmas dimensões. No caso de um escalar, o valor do escalar é difundido para todos os elementos do array maior, como no exemplo:"
      ]
    },
    {
      "cell_type": "code",
      "execution_count": 32,
      "metadata": {
        "id": "oN6Hx1JVL8Us",
        "outputId": "b50685b8-c730-4e63-92a6-72069f5188a9",
        "colab": {
          "base_uri": "https://localhost:8080/"
        }
      },
      "outputs": [
        {
          "output_type": "execute_result",
          "data": {
            "text/plain": [
              "array([[2, 3],\n",
              "       [4, 5]])"
            ]
          },
          "metadata": {},
          "execution_count": 32
        }
      ],
      "source": [
        "a2 = np.array([[1,2],[3,4]])\n",
        "a2 + [1]"
      ]
    },
    {
      "cell_type": "code",
      "execution_count": 33,
      "metadata": {
        "id": "7UCSx3f-L8Us",
        "outputId": "63e5b545-ee9e-4917-84d9-68d12647e1c2",
        "colab": {
          "base_uri": "https://localhost:8080/"
        }
      },
      "outputs": [
        {
          "output_type": "execute_result",
          "data": {
            "text/plain": [
              "array([[2, 4],\n",
              "       [6, 8]])"
            ]
          },
          "metadata": {},
          "execution_count": 33
        }
      ],
      "source": [
        "a2 * 2"
      ]
    },
    {
      "cell_type": "code",
      "execution_count": 34,
      "metadata": {
        "id": "AhkgVK24L8Us",
        "outputId": "00115817-4c5a-401f-a51d-76568af1e72a",
        "colab": {
          "base_uri": "https://localhost:8080/"
        }
      },
      "outputs": [
        {
          "output_type": "execute_result",
          "data": {
            "text/plain": [
              "array([[0.5, 1. ],\n",
              "       [1.5, 2. ]])"
            ]
          },
          "metadata": {},
          "execution_count": 34
        }
      ],
      "source": [
        "a2/2"
      ]
    },
    {
      "cell_type": "markdown",
      "metadata": {
        "collapsed": false,
        "id": "VCOXHRrkL8Us"
      },
      "source": [
        "### Atribuir valores a NumPy Arrays\n",
        "- Também podemos usar a indexação para atribuir valores a determinados elementos em arrays. Podemos fazer isso atribuindo diretamente ao valor indexado:"
      ]
    },
    {
      "cell_type": "code",
      "execution_count": 36,
      "metadata": {
        "id": "IGZllsVIL8Us"
      },
      "outputs": [],
      "source": [
        "numeros=10*np.random.randint(0,1,size=(2, 4))\n",
        "numeros[ 1 , 1] = 10\n",
        "numeros[:, 2 ] = 50"
      ]
    },
    {
      "cell_type": "code",
      "execution_count": 37,
      "metadata": {
        "id": "XfLYCpp0L8Us",
        "outputId": "15a3f2ed-0b08-4df6-8503-4246923e4375",
        "colab": {
          "base_uri": "https://localhost:8080/"
        }
      },
      "outputs": [
        {
          "output_type": "execute_result",
          "data": {
            "text/plain": [
              "array([[ 0,  0, 50,  0],\n",
              "       [ 0, 10, 50,  0]])"
            ]
          },
          "metadata": {},
          "execution_count": 37
        }
      ],
      "source": [
        "numeros"
      ]
    },
    {
      "cell_type": "code",
      "execution_count": null,
      "metadata": {
        "id": "Dt0AuFVvL8Us",
        "outputId": "c6f12d92-fb46-4fb6-8a1c-e495e1f848aa"
      },
      "outputs": [
        {
          "data": {
            "text/plain": [
              "array([[8, 8, 7, 8],\n",
              "       [6, 7, 5, 7]])"
            ]
          },
          "execution_count": 39,
          "metadata": {},
          "output_type": "execute_result"
        }
      ],
      "source": [
        " np.random.randint(5,10, size=(2, 4))"
      ]
    },
    {
      "cell_type": "code",
      "execution_count": 38,
      "metadata": {
        "id": "k20m0M2WL8Us",
        "outputId": "2bad9115-14dd-4705-aa2d-e4179837f6e9",
        "colab": {
          "base_uri": "https://localhost:8080/"
        }
      },
      "outputs": [
        {
          "output_type": "execute_result",
          "data": {
            "text/plain": [
              "array([[ 0,  0, 50,  0],\n",
              "       [ 0, 10, 50,  0]])"
            ]
          },
          "metadata": {},
          "execution_count": 38
        }
      ],
      "source": [
        "numeros"
      ]
    },
    {
      "cell_type": "markdown",
      "metadata": {
        "collapsed": false,
        "id": "dIAA8GReL8Us"
      },
      "source": [
        "### Tipos de dados NumPy\n",
        "-  NumPy armazena valores usando seus próprios tipos de dados, que são distintos de tipos Python como **float** e **str** . Isso ocorre porque o núcleo do NumPy é escrito em uma linguagem de programação chamada C, que armazena dados de forma diferente dos tipos de dados Python. Os tipos de dados NumPy mapeiam entre Python e C, permitindo-nos usar matrizes NumPy sem nenhum engate de conversão.\n",
        "- Você pode encontrar o tipo de dados de uma matriz NumPy acessando a propriedade dtype:"
      ]
    },
    {
      "cell_type": "code",
      "execution_count": 39,
      "metadata": {
        "id": "P_0SJgZ9L8Us",
        "outputId": "6b89c05a-5ca6-4346-8286-ba496149d9ec",
        "colab": {
          "base_uri": "https://localhost:8080/"
        }
      },
      "outputs": [
        {
          "output_type": "execute_result",
          "data": {
            "text/plain": [
              "dtype('int64')"
            ]
          },
          "metadata": {},
          "execution_count": 39
        }
      ],
      "source": [
        "numeros.dtype"
      ]
    },
    {
      "cell_type": "code",
      "source": [
        "2**63"
      ],
      "metadata": {
        "id": "26LudP7iZkGg",
        "outputId": "d133fb3b-cbc3-4811-cb88-869c1e3a693c",
        "colab": {
          "base_uri": "https://localhost:8080/"
        }
      },
      "execution_count": 41,
      "outputs": [
        {
          "output_type": "execute_result",
          "data": {
            "text/plain": [
              "9223372036854775808"
            ]
          },
          "metadata": {},
          "execution_count": 41
        }
      ]
    },
    {
      "cell_type": "markdown",
      "metadata": {
        "collapsed": false,
        "id": "vY4Kpfm6L8Us"
      },
      "source": [
        "- NumPy tem vários tipos de dados diferentes, que mapeiam principalmente para tipos de dados Python, como float e str . Você pode encontrar uma lista completa dos tipos de dados NumPy aqui , mas aqui estão alguns importantes:\n",
        "\n",
        "- **float** - dados numéricos de ponto flutuante.\n",
        "- **int** - dados inteiros.\n",
        "- **string** - dados de caracteres.\n",
        "- **object** - Objetos Python.\n",
        "\n",
        "- Os tipos de dados, adicionalmente, terminam com um sufixo que indica quantos bits de memória eles ocupam. Assim, int32 é um tipo de dados inteiros de 32 bits e float64 é um tipo de dados float de 64 bits."
      ]
    },
    {
      "cell_type": "markdown",
      "metadata": {
        "collapsed": false,
        "id": "YAjmJUOFL8Us"
      },
      "source": [
        "### Convertendo tipos de dados\n",
        "- Você pode usar o método **numpy.ndarray.astype** para converter uma matriz em um tipo diferente. O método realmente copiará a matriz e retornará uma nova matriz com o tipo de dados especificado."
      ]
    },
    {
      "cell_type": "code",
      "execution_count": null,
      "metadata": {
        "id": "-V39kXvwL8Us",
        "outputId": "929260d1-68e2-41f0-ed57-17a278b1e96d"
      },
      "outputs": [
        {
          "data": {
            "text/plain": [
              "array([[ 0.,  0., 50.,  0.],\n",
              "       [ 0., 10., 50.,  0.]])"
            ]
          },
          "execution_count": 42,
          "metadata": {},
          "output_type": "execute_result"
        }
      ],
      "source": [
        "numeros.astype(float)"
      ]
    },
    {
      "cell_type": "markdown",
      "metadata": {
        "collapsed": false,
        "id": "yQSPTCSvL8Us"
      },
      "source": [
        "### NumPy Array Comparações\n",
        "- NumPy torna possível testar para ver se as linhas correspondem a certos valores usando operações de comparação matemática como < , > , >= , <= e == .\n"
      ]
    },
    {
      "cell_type": "code",
      "execution_count": null,
      "metadata": {
        "id": "IeVmjGSnL8Ut",
        "outputId": "0a3349b1-f03f-4c7f-c286-41db12e3bcff"
      },
      "outputs": [
        {
          "data": {
            "text/plain": [
              "array([[ 0,  0, 50,  0],\n",
              "       [ 0, 10, 50,  0]])"
            ]
          },
          "execution_count": 43,
          "metadata": {},
          "output_type": "execute_result"
        }
      ],
      "source": [
        "numeros"
      ]
    },
    {
      "cell_type": "code",
      "execution_count": null,
      "metadata": {
        "id": "yDGYXHhiL8Ut",
        "outputId": "ea32e6eb-9212-40fc-bf6e-e7ffd0d571f9"
      },
      "outputs": [
        {
          "data": {
            "text/plain": [
              "array([[False, False,  True, False],\n",
              "       [False,  True,  True,  True],\n",
              "       [False, False,  True, False]], dtype=bool)"
            ]
          },
          "execution_count": 66,
          "metadata": {},
          "output_type": "execute_result"
        }
      ],
      "source": [
        "numeros>5"
      ]
    },
    {
      "cell_type": "code",
      "execution_count": null,
      "metadata": {
        "id": "zOcUtz6VL8Ut",
        "outputId": "f868becf-7769-4abc-a40c-c9995dfc9b8b"
      },
      "outputs": [
        {
          "data": {
            "text/plain": [
              "array([ True,  True,  True], dtype=bool)"
            ]
          },
          "execution_count": 67,
          "metadata": {},
          "output_type": "execute_result"
        }
      ],
      "source": [
        "numeros[:, 0 ] > 0.1"
      ]
    },
    {
      "cell_type": "code",
      "execution_count": null,
      "metadata": {
        "id": "GeUu7WzgL8Ut",
        "outputId": "d52455b3-6563-4b4d-fb41-3dce537ac4f9"
      },
      "outputs": [
        {
          "data": {
            "text/plain": [
              "array([ True,  True])"
            ]
          },
          "execution_count": 44,
          "metadata": {},
          "output_type": "execute_result"
        }
      ],
      "source": [
        "numeros[:, 2] == 50."
      ]
    },
    {
      "cell_type": "markdown",
      "metadata": {
        "collapsed": false,
        "id": "af5V1XTDL8Ut"
      },
      "source": [
        "### Subsetting\n",
        "- Uma das operações poderosas que podemos realizar com uma matriz booleana e uma matriz NumPy é selecionar apenas algumas linhas ou colunas na matriz NumPy. Por exemplo, o código abaixo só irá selecionar linhas cuja qualidade é superior a 7 :"
      ]
    },
    {
      "cell_type": "code",
      "execution_count": 42,
      "metadata": {
        "id": "VVLziiE0L8Ut",
        "outputId": "64b2c7ce-16c2-4b86-b19e-b386f0efec6d",
        "colab": {
          "base_uri": "https://localhost:8080/"
        }
      },
      "outputs": [
        {
          "output_type": "execute_result",
          "data": {
            "text/plain": [
              "array([[ 0, 10, 50,  0]])"
            ]
          },
          "metadata": {},
          "execution_count": 42
        }
      ],
      "source": [
        "high_quality = numeros[:,1] > 2\n",
        "numeros[high_quality]"
      ]
    },
    {
      "cell_type": "code",
      "execution_count": 43,
      "metadata": {
        "id": "w8g_g5qwL8Ut",
        "outputId": "956a56ab-9d83-4be7-b044-da9c5e8b9ce5",
        "colab": {
          "base_uri": "https://localhost:8080/"
        }
      },
      "outputs": [
        {
          "output_type": "execute_result",
          "data": {
            "text/plain": [
              "array([False,  True])"
            ]
          },
          "metadata": {},
          "execution_count": 43
        }
      ],
      "source": [
        "high_quality"
      ]
    },
    {
      "cell_type": "markdown",
      "metadata": {
        "collapsed": false,
        "id": "RV4V6b_yL8Ut"
      },
      "source": [
        "Para retornar os índices"
      ]
    },
    {
      "cell_type": "code",
      "execution_count": 44,
      "metadata": {
        "id": "re0QOyu9L8Ut",
        "outputId": "f648cbf2-96dc-40fd-df7c-92a9a4b61bfa",
        "colab": {
          "base_uri": "https://localhost:8080/"
        }
      },
      "outputs": [
        {
          "output_type": "execute_result",
          "data": {
            "text/plain": [
              "array([[0, 2],\n",
              "       [1, 2]])"
            ]
          },
          "metadata": {},
          "execution_count": 44
        }
      ],
      "source": [
        "np.argwhere(numeros >40)"
      ]
    },
    {
      "cell_type": "code",
      "source": [
        "numeros"
      ],
      "metadata": {
        "id": "Dl2JjmCKaMbQ",
        "outputId": "c1fdcf08-0f3a-4c9d-fd10-910bbbdf95ca",
        "colab": {
          "base_uri": "https://localhost:8080/"
        }
      },
      "execution_count": 45,
      "outputs": [
        {
          "output_type": "execute_result",
          "data": {
            "text/plain": [
              "array([[ 0,  0, 50,  0],\n",
              "       [ 0, 10, 50,  0]])"
            ]
          },
          "metadata": {},
          "execution_count": 45
        }
      ]
    },
    {
      "cell_type": "markdown",
      "metadata": {
        "collapsed": false,
        "id": "fB2HCT14L8Ut"
      },
      "source": [
        "## Operações Diversas"
      ]
    },
    {
      "cell_type": "markdown",
      "metadata": {
        "collapsed": false,
        "id": "jZZqQgnLL8Ut"
      },
      "source": [
        "- Para achatar os dados, ou seja acabar com sua estrutura interna"
      ]
    },
    {
      "cell_type": "code",
      "execution_count": 46,
      "metadata": {
        "id": "ESYDHMakL8Ut",
        "outputId": "5ab4f35d-1d6d-4231-9944-5e611523a1d4",
        "colab": {
          "base_uri": "https://localhost:8080/"
        }
      },
      "outputs": [
        {
          "output_type": "execute_result",
          "data": {
            "text/plain": [
              "array([ 0,  0, 50,  0,  0, 10, 50,  0])"
            ]
          },
          "metadata": {},
          "execution_count": 46
        }
      ],
      "source": [
        "numeros.ravel()"
      ]
    },
    {
      "cell_type": "markdown",
      "metadata": {
        "collapsed": false,
        "id": "NJqjUy6GL8Ut"
      },
      "source": [
        "Para inserir uma linha em um `array`:"
      ]
    },
    {
      "cell_type": "code",
      "execution_count": 49,
      "metadata": {
        "id": "cXlBBZh9L8Ut"
      },
      "outputs": [],
      "source": [
        "numeros2=np.vstack((numeros, [1,2,3,4]))"
      ]
    },
    {
      "cell_type": "code",
      "execution_count": 50,
      "metadata": {
        "id": "aZAjeG-0L8Ut",
        "outputId": "71077260-4c6d-4899-8653-92a57cc36ca1",
        "colab": {
          "base_uri": "https://localhost:8080/"
        }
      },
      "outputs": [
        {
          "output_type": "execute_result",
          "data": {
            "text/plain": [
              "array([[ 0,  0, 50,  0],\n",
              "       [ 0, 10, 50,  0],\n",
              "       [ 1,  2,  3,  4]])"
            ]
          },
          "metadata": {},
          "execution_count": 50
        }
      ],
      "source": [
        "numeros2"
      ]
    },
    {
      "cell_type": "markdown",
      "metadata": {
        "collapsed": false,
        "id": "JwD3r9O_L8Ut"
      },
      "source": [
        "Para inserir uma coluna. Note que temos que criar um vetor coluna.\n"
      ]
    },
    {
      "cell_type": "code",
      "execution_count": null,
      "metadata": {
        "id": "wM-hkqTnL8Ut",
        "outputId": "4ab356ca-bc5e-4ac3-82c1-562a22859b5c"
      },
      "outputs": [
        {
          "data": {
            "text/plain": [
              "array([[ 0,  0, 50,  0,  1],\n",
              "       [ 0, 10, 50,  0,  2]])"
            ]
          },
          "execution_count": 58,
          "metadata": {},
          "output_type": "execute_result"
        }
      ],
      "source": [
        "np.hstack((numeros,[[1],[2]]))"
      ]
    },
    {
      "cell_type": "markdown",
      "metadata": {
        "collapsed": false,
        "id": "W9bcm2t0L8Ut"
      },
      "source": [
        "## Álgebra Linear"
      ]
    },
    {
      "cell_type": "code",
      "execution_count": 51,
      "metadata": {
        "id": "QAsBEVLhL8Ut"
      },
      "outputs": [],
      "source": [
        "\n",
        "from numpy import linalg as LA\n",
        "arr2d = np.array((  (100,200,300),\n",
        "          (111,222,333),\n",
        "          (129,461,795) ))\n",
        "\n"
      ]
    },
    {
      "cell_type": "markdown",
      "metadata": {
        "collapsed": false,
        "id": "vxk3FIQxL8Uu"
      },
      "source": [
        "Calcula os autovalores:"
      ]
    },
    {
      "cell_type": "code",
      "execution_count": 52,
      "metadata": {
        "id": "TBbaTxugL8Uu"
      },
      "outputs": [],
      "source": [
        "eig_val, eig_vec = LA.eig(arr2d)"
      ]
    },
    {
      "cell_type": "code",
      "execution_count": 53,
      "metadata": {
        "id": "ou8BU73HL8Uu",
        "outputId": "18ce85da-2d0e-4778-dc87-bef9c79dfaa9",
        "colab": {
          "base_uri": "https://localhost:8080/"
        }
      },
      "outputs": [
        {
          "output_type": "execute_result",
          "data": {
            "text/plain": [
              "EigResult(eigenvalues=array([1.05664180e+03, 6.03582029e+01, 2.37768608e-14]), eigenvectors=array([[ 0.34860455,  0.57805139,  0.41356846],\n",
              "       [ 0.38695105,  0.64163704, -0.81514943],\n",
              "       [ 0.8536649 , -0.50414135,  0.4055768 ]]))"
            ]
          },
          "metadata": {},
          "execution_count": 53
        }
      ],
      "source": [
        "LA.eig(arr2d)"
      ]
    },
    {
      "cell_type": "code",
      "execution_count": 54,
      "metadata": {
        "id": "tUo4IBUIL8Uu",
        "outputId": "47d57cb8-ffd6-43e5-efb1-4a221f4e8e39",
        "colab": {
          "base_uri": "https://localhost:8080/"
        }
      },
      "outputs": [
        {
          "output_type": "execute_result",
          "data": {
            "text/plain": [
              "array([1.05664180e+03, 6.03582029e+01, 2.37768608e-14])"
            ]
          },
          "metadata": {},
          "execution_count": 54
        }
      ],
      "source": [
        "eig_val"
      ]
    },
    {
      "cell_type": "code",
      "execution_count": 55,
      "metadata": {
        "id": "u9ghGgMxL8Uu",
        "outputId": "3464ee6c-f9be-476d-e496-58d19fd789f7",
        "colab": {
          "base_uri": "https://localhost:8080/"
        }
      },
      "outputs": [
        {
          "output_type": "execute_result",
          "data": {
            "text/plain": [
              "array([[ 0.34860455,  0.57805139,  0.41356846],\n",
              "       [ 0.38695105,  0.64163704, -0.81514943],\n",
              "       [ 0.8536649 , -0.50414135,  0.4055768 ]])"
            ]
          },
          "metadata": {},
          "execution_count": 55
        }
      ],
      "source": [
        "eig_vec"
      ]
    },
    {
      "cell_type": "code",
      "execution_count": null,
      "metadata": {
        "id": "8gQepKvDL8Uu",
        "outputId": "40c57111-a57c-4961-abc6-8d2d025caeed"
      },
      "outputs": [
        {
          "data": {
            "text/plain": [
              "0.1686719832514646"
            ]
          },
          "execution_count": 66,
          "metadata": {},
          "output_type": "execute_result"
        }
      ],
      "source": [
        "np.dot(eig_vec[0],eig_vec[1].T)"
      ]
    },
    {
      "cell_type": "code",
      "execution_count": 56,
      "metadata": {
        "id": "NMCqYvSmL8Uu",
        "outputId": "fa8d51ae-89f2-4deb-bf91-788ca3be91f7",
        "colab": {
          "base_uri": "https://localhost:8080/"
        }
      },
      "outputs": [
        {
          "output_type": "execute_result",
          "data": {
            "text/plain": [
              "1083.3655892633844"
            ]
          },
          "metadata": {},
          "execution_count": 56
        }
      ],
      "source": [
        "LA.norm(arr2d) # calcula a norma da matriz\n"
      ]
    },
    {
      "cell_type": "code",
      "execution_count": 57,
      "metadata": {
        "id": "UURLtHcgL8Uu",
        "outputId": "70fc52e8-7a22-48dd-9e43-ad349ecee3ad",
        "colab": {
          "base_uri": "https://localhost:8080/"
        }
      },
      "outputs": [
        {
          "output_type": "execute_result",
          "data": {
            "text/plain": [
              "1.280852757190584e-09"
            ]
          },
          "metadata": {},
          "execution_count": 57
        }
      ],
      "source": [
        "LA.det(arr2d) # calcula determinante\n"
      ]
    },
    {
      "cell_type": "code",
      "execution_count": 58,
      "metadata": {
        "id": "BfLdivkTL8Uu",
        "outputId": "47702cc5-416d-4984-996f-75203b1d20f3",
        "colab": {
          "base_uri": "https://localhost:8080/"
        }
      },
      "outputs": [
        {
          "output_type": "execute_result",
          "data": {
            "text/plain": [
              "array([[ 1.79388301e+13, -1.61611082e+13, -5.73046402e-03],\n",
              "       [-3.53576941e+13,  3.18537785e+13, -3.19792599e-03],\n",
              "       [ 1.75921860e+13, -1.58488163e+13,  4.04210533e-03]])"
            ]
          },
          "metadata": {},
          "execution_count": 58
        }
      ],
      "source": [
        "LA.inv(arr2d) # calcula inversa"
      ]
    },
    {
      "cell_type": "markdown",
      "metadata": {
        "collapsed": false,
        "id": "SBZ4QFadL8Uu"
      },
      "source": [
        "Resolve sistemas lineares na forma\n",
        "\n",
        "$$ a x + b y = c $$\n",
        "$$ d x + e y = f $$"
      ]
    },
    {
      "cell_type": "markdown",
      "metadata": {
        "collapsed": false,
        "id": "fX-zXx6hL8Uu"
      },
      "source": [
        "$$\\left(\\begin{array}\n",
        " a a & b \\\\\n",
        "d & e\n",
        "\\end{array}\\right)\\cdot\n",
        "\\left(\n",
        "\\begin{array}\n",
        "x x \\\\\n",
        "y\n",
        "\\end{array}\n",
        "\\right)=\n",
        "\\left(\n",
        "\\begin{array}\n",
        "c c \\\\\n",
        "f\n",
        "\\end{array}\n",
        "\\right)\n",
        "$$"
      ]
    },
    {
      "cell_type": "code",
      "execution_count": 59,
      "metadata": {
        "id": "gac04ghgL8Uu",
        "outputId": "07ec9d4a-7c5f-4351-c629-fa05be1724b7",
        "colab": {
          "base_uri": "https://localhost:8080/"
        }
      },
      "outputs": [
        {
          "output_type": "execute_result",
          "data": {
            "text/plain": [
              "array([-1.,  2.])"
            ]
          },
          "metadata": {},
          "execution_count": 59
        }
      ],
      "source": [
        "arr1 = np.array([[2,3], [3,4]])\n",
        "arr2 = np.array([4,5])\n",
        "results = np.linalg.solve(arr1, arr2)\n",
        "results"
      ]
    },
    {
      "cell_type": "markdown",
      "metadata": {
        "collapsed": false,
        "id": "LjJvdsuzL8Uu"
      },
      "source": [
        "## Exercícios para fazer na aula\n",
        "- Encontre índices de elementos não nulos de [1,2,0,0,4,0]\n",
        "- Extrair a parte inteira de uma matriz aleatória\n",
        "- Considere uma matriz aleatória de 10$\\times$2 que represente coordenadas cartesianas, converta-as em coordenadas polares\n",
        "- Considere um vetor aleatório com forma (100,2) representando coordenadas, encontre as  distâncias entre todos os pontos\n",
        "- Considere o vetor [1, 2, 3, 4, 5], como construir um novo vetor com 3 zeros consecutivos intercalados entre cada valor?"
      ]
    },
    {
      "cell_type": "code",
      "execution_count": null,
      "metadata": {
        "collapsed": true,
        "id": "a5cEmgJtL8Uu"
      },
      "outputs": [],
      "source": []
    },
    {
      "cell_type": "markdown",
      "metadata": {
        "collapsed": false,
        "id": "azUGOkZhL8Uu"
      },
      "source": [
        "### Exercício 1 - Jogo da Vida\n",
        "- O Jogo da Vida (The Game of Life) é um autômato celular (cellular automaton) introduzido por John Horton Conway em 1970. Um automato celular consiste de uma rede de células. Cada célula pode estar em um número finito de estados, como morta ou viva. O “jogo” é na verdade uma simulação que permite observar a evolução de um processo a partir de uma certa condição inicial.\n",
        "- O jogo se desenvolve sobre uma matriz bi-dimensional que pode ser tão grande quanto se queira. Vamos chamar essa matriz de mapa. Cada posição ou célula do mapa pode estar vazia (= célula morta) ou ocupada por um agente (= célula viva). Cada posição possui também até 8 posições vizinhas: imediatamente acima, abaixo, aos lados e nas diagonais. Em um determinado instante, o mapa contém uma geração de agentes. A geração no instante seguinte é determinada segundo as regras abaixo:\n",
        "- Novos agentes nascem em células vazias que possuam exatamente 3 agentes vizinhos;\n",
        "- **Agentes com 2 ou 3 agentes vizinhos sobrevivem;**\n",
        "- **Agentes com menos de 2 agentes vizinhos morrem for falta de recursos;**\n",
        "- **Agentes com mais de 3 agentes vizinhos morrem por excesso de competição.**"
      ]
    },
    {
      "cell_type": "markdown",
      "metadata": {
        "collapsed": false,
        "id": "q24f2Nk_L8Uu"
      },
      "source": [
        "## Jogo da Vida"
      ]
    },
    {
      "cell_type": "code",
      "execution_count": null,
      "metadata": {
        "collapsed": true,
        "id": "Wq2Fv-5XL8Uv"
      },
      "outputs": [],
      "source": []
    }
  ],
  "metadata": {
    "celltoolbar": "Slideshow",
    "kernelspec": {
      "display_name": "Python 3 (Ubuntu Linux)",
      "language": "python",
      "metadata": {
        "cocalc": {
          "description": "Python 3 programming language",
          "priority": 100,
          "url": "https://www.python.org/"
        }
      },
      "name": "python3"
    },
    "language_info": {
      "codemirror_mode": {
        "name": "ipython",
        "version": 3
      },
      "file_extension": ".py",
      "mimetype": "text/x-python",
      "name": "python",
      "nbconvert_exporter": "python",
      "pygments_lexer": "ipython3",
      "version": "3.6.7"
    },
    "colab": {
      "provenance": []
    }
  },
  "nbformat": 4,
  "nbformat_minor": 0
}