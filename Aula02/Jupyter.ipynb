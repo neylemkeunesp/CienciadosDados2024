{
  "cells": [
    {
      "cell_type": "markdown",
      "metadata": {
        "id": "k3DVDXO2Js2P"
      },
      "source": [
        "# Plataforma  Jupyter\n",
        "\n",
        "\n",
        "* Docente: *Professor* Dr. Ney Lemke\n",
        "\n",
        "*E-mail para dúvidas:* ney.lemke@unesp.br"
      ]
    },
    {
      "cell_type": "markdown",
      "metadata": {
        "id": "jtBtEgXbJs2Q"
      },
      "source": [
        "## Plataforma Jupyter\n",
        "\n",
        "### O que é Jupyter?\n",
        "\n",
        "- Jupyter é uma plataforma de código aberto para computação interativa e paralela\n",
        "- Jupyter pode ser usado com a linguagem de programação Python, mas a plataforma também suporta muitas outras linguagens como R, Julia, Haskell ou Ruby. A arquitetura do projeto é, de fato, independente da linguagem, consistindo em protocolos de mensagens e clientes interativos (incluindo o notebook baseado em navegador).\n",
        "- Em julho de 2014, o Projeto Jupyter foi anunciado pelos desenvolvedores do IPython. Este projeto focalizará as partes independentes da linguagem do IPython (incluindo a arquitetura do notebook).\n",
        "\n",
        "### Uma breve retrospectiva histórica sobre Python como um ambiente científico\n",
        "- Python é uma linguagem de alto nível de propósito geral originalmente concebida por Guido van Rossum no final dos anos 80.\n",
        "- Esta linguagem fácil de usar é a base de muitos programas de script que colam diferentes componentes de software (linguagem de colagem) juntos. Além disso, o Python vem com uma biblioteca extremamente rica, que abrange processamento de seqüência de caracteres, protocolos Internet, interfaces de sistemas operacionais e muitos outros domínios.\n",
        "- No final dos anos 90, Travis Oliphant e outros começaram a construir ferramentas eficientes para lidar com dados numéricos em Python: Numeric, Numarray e, finalmente, NumPy. SciPy, que implementa muitos algoritmos de computação numérica, também foi criado em cima de NumPy. No início dos anos 2000, John Hunter criou matplotlib para trazer gráficos científicos para Python. Ao mesmo tempo, Fernando Perez criou o IPython para melhorar a interatividade ea produtividade em Python. Todas as ferramentas fundamentais estavam aqui para transformar Python em um grande código aberto de alto desempenho para a computação científica e análise de dados.\n",
        "- No final dos anos 2000, Wes McKinney criou pandas para a manipulação e análise de tabelas numéricas e séries temporais. Ao mesmo tempo, os desenvolvedores do IPython começaram a trabalhar em um cliente de notebooks inspirado em software matemático, como Sage, Maple e Mathematica. Finalmente, o IPython 0.12, lançado em dezembro de 2011, introduziu o notebook baseado em HTML que passou agora mainstream.\n",
        "- Em 2013, a equipe IPython recebeu uma doação da Fundação Sloan e uma doação da Microsoft para apoiar o desenvolvimento do notebook. IPython 2.0, lançado no início de 2014, trouxe muitas melhorias e recursos há muito aguardados.\n",
        "- O IPython 3.0 e 4.0, planejados para o final de 2014 / início de 2015, devem facilitar o uso de kernels que não sejam Python e fornecer recursos multi-usuários ao notebook.\n",
        "\n",
        "\n"
      ]
    },
    {
      "cell_type": "markdown",
      "metadata": {
        "id": "v8YqgaYiJs2Q"
      },
      "source": [
        "## Introdução a plataforma Jupyter\n",
        "O notebook é a principal ferramenta do Jupyter. Este ambiente interativo baseado na web combina código, texto com formatação, imagens, vídeos, animações, matemática e gráficos em um único documento. Esta ferramenta moderna é um gateway ideal para computação numérica de alto desempenho e ciência de dados em Python.\n",
        "\n",
        "\n"
      ]
    },
    {
      "cell_type": "markdown",
      "metadata": {
        "id": "Pb3hqxvHJs2Q"
      },
      "source": [
        "### Jupyter notebook\n",
        "\n",
        "![Jupyter Notebook](https://www.software.ac.uk/sites/default/files/images/content/jupyter-main-logo.svg)\n",
        "\n",
        "O Jupyter Notebook é uma aplicação web de código aberto que permite criar e partilhar documentos que contêm código, equações, visualizações e texto explicativo. Usos incluem: limpeza de dados e transformação, simulação numérica, modelagem estatística, aprendizagem de máquina e muito mais.\n",
        "\n",
        " Para instalar digite:\n",
        "\n",
        "```\n",
        " pip install jupyter\n",
        "```"
      ]
    },
    {
      "cell_type": "markdown",
      "metadata": {
        "id": "1xCxJ-MyJs2R"
      },
      "source": [
        "### Jupyter-lab\n",
        "\n",
        "![Jupyter-Lab](https://jupyterlab.readthedocs.io/en/latest/_static/logo-rectangle-dark.svg)\n",
        "\n",
        "O Jupyter-lab é o sucessor do Jupyter Notebook tem várias funcionalidas novas, mas contudo nem sempre tem todas as funcionalidades e extensões do Notebook.\n",
        "\n",
        "Para instalar digite:\n",
        "\n",
        "```\n",
        " pip install jupyter-lab\n",
        "```"
      ]
    },
    {
      "cell_type": "markdown",
      "source": [
        "## Pretzel\n",
        "\n",
        "É uma variante do Jupyter com IA. Vale a pena experimentar.\n",
        "\n",
        "\n",
        "```bash\n",
        "pip install pretzelai\n",
        "```\n",
        "\n",
        "\n",
        "\n",
        "\n"
      ],
      "metadata": {
        "id": "82H-4k2qKm1R"
      }
    },
    {
      "cell_type": "markdown",
      "metadata": {
        "id": "bZmLPJIkJs2R"
      },
      "source": [
        "##  Notebooks na Web\n",
        "- **Colab** O Colab é uma plataforma de computação em nuvem e de gerenciamento de cursos baseada na web para matemática computacional oferecido pelo Google.\n",
        "\n",
        "https://colab.research.google.com/\n",
        "\n",
        "\n",
        "Para Montar seu Google Drive.\n",
        "\n"
      ]
    },
    {
      "cell_type": "code",
      "source": [
        "from google.colab import drive\n",
        "drive.mount('/content/drive')"
      ],
      "metadata": {
        "id": "5mOOmRzQOFRc"
      },
      "execution_count": null,
      "outputs": []
    },
    {
      "cell_type": "markdown",
      "metadata": {
        "id": "9puIQ3rUJs2R"
      },
      "source": [
        "## Extra\n",
        "### Instalação Local do Python\n",
        "\n",
        "Se você está apenas começando com computação científica em Python, a opção mais simples é instalar uma distribuição Python all-in-one. As distribuições mais comuns são:\n",
        "\n",
        "- **Anaconda** (licença gratuita ou comercial) disponível em:  http://store.continuum.io/cshop/anaconda/\n",
        "\n",
        "Recomendamos altamente Anaconda se você prefirir trabalhar no ambiente Windows. Essas distribuições contêm tudo o que você precisa para começar. Você também pode instalar pacotes adicionais conforme necessário. Você encontrará todas as instruções de instalação nos links mencionados anteriormente.\n",
        "\n",
        "- **WSL**\n",
        "\n",
        "**WSL** É o subsistema linux da Microsoft\n",
        "Instale incialmente o WSL  da Microsoft\n",
        "\n",
        "Siga as instruções de https://learn.microsoft.com/pt-br/windows/wsl/install\n",
        "\n",
        "Mas basicamente abra um terminal e digite\n",
        "\n",
        "```bash\n",
        "% wsl --install\n",
        "```\n",
        "\n",
        "Nesse caso o python virá instalado por padrão.\n",
        "\n",
        "- **VSCODE**\n",
        "\n",
        "**VSCODE** É um editor superpoderoso de Código da Microsoft.\n",
        "\n",
        "\n",
        "\n",
        " e o VSCODE da loja da Microsoft.\n",
        "\n",
        " A partir do VSCODE vc consegue acessar seus diretórios Linux.\n",
        "\n",
        "\n",
        "\n",
        "\n"
      ]
    },
    {
      "cell_type": "markdown",
      "metadata": {
        "id": "Ox7v2FcIJs2R"
      },
      "source": []
    }
  ],
  "metadata": {
    "celltoolbar": "Slideshow",
    "kernelspec": {
      "display_name": "Python 3 (ipykernel)",
      "language": "python",
      "name": "python3"
    },
    "language_info": {
      "codemirror_mode": {
        "name": "ipython",
        "version": 3
      },
      "file_extension": ".py",
      "mimetype": "text/x-python",
      "name": "python",
      "nbconvert_exporter": "python",
      "pygments_lexer": "ipython3",
      "version": "3.8.10"
    },
    "colab": {
      "provenance": []
    }
  },
  "nbformat": 4,
  "nbformat_minor": 0
}