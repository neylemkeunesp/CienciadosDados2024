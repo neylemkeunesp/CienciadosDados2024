{
 "cells": [
  {
   "cell_type": "code",
   "execution_count": 1,
   "metadata": {
    "collapsed": false,
    "slideshow": {
     "slide_type": "skip"
    }
   },
   "outputs": [
    {
     "data": {
      "text/plain": [
       "{'start_slideshow_at': 'selected', 'theme': 'beige', 'transition': 'zoom'}"
      ]
     },
     "execution_count": 1,
     "metadata": {},
     "output_type": "execute_result"
    }
   ],
   "source": [
    "from notebook.services.config import ConfigManager\n",
    "from IPython.paths import locate_profile\n",
    "cm = ConfigManager(profile_dir=locate_profile(get_ipython().profile))\n",
    "cm.update('livereveal', {\n",
    "              'start_slideshow_at': 'selected',\n",
    "})\n"
   ]
  },
  {
   "cell_type": "markdown",
   "metadata": {
    "collapsed": false,
    "slideshow": {
     "slide_type": "slide"
    }
   },
   "source": [
    "# Ciência dos Dados I: Análise Exploratória\n",
    "\n",
    "### by Ney Lemke "
   ]
  },
  {
   "cell_type": "markdown",
   "metadata": {
    "collapsed": false,
    "slideshow": {
     "slide_type": "slide"
    }
   },
   "source": [
    "## Organização"
   ]
  },
  {
   "cell_type": "markdown",
   "metadata": {
    "collapsed": false,
    "slideshow": {
     "slide_type": "subslide"
    }
   },
   "source": [
    "- Introdução\n",
    "    - Configuração do Ambiente de Trabalho\n",
    "    - Historia da Computação Científica\n",
    "- Ferramentas Básicas\n",
    "   - Interface Jupyter\n",
    "   - Markdown e LaTeX\n",
    "- Paradigmas de Programação\n",
    "- Comandos Básicos de Linux\n",
    "   - Git\n",
    "   - Usando pacotes\n",
    "- Linguagens de Programação\n",
    "- Bases de programação em Python\n",
    "   - Python como Calculadora\n",
    "   - Listas\n",
    "   - Conjuntos\n",
    "   - Dicionários\n",
    "- Estruturas de Dados \n",
    "- Estruturas de Controle\n",
    "- Arquivos\n",
    "- Pandas\n",
    "- Cálculo Numérico\n",
    "- Visualização\n",
    "- Análise Estatística e Elementos de Aprendizagem de Máquina\n"
   ]
  },
  {
   "cell_type": "markdown",
   "metadata": {},
   "source": [
    "## Avaliação\n",
    "A cada aula serão atribuídos exercícios que deverão ser entregues uma semana após \n",
    "a aula. A nota final será a média de todos esses materiais. \n"
   ]
  },
  {
   "cell_type": "markdown",
   "metadata": {
    "collapsed": false,
    "slideshow": {
     "slide_type": "slide"
    }
   },
   "source": [
    "## Bibliografia\n",
    "\n",
    "- Cyrille Rossant, IPython Interactive Computing and Visualization Cookbook, Packt Publishing \n",
    "- Duncan M. McGreggor, Mastering matplotlib, Packt Publishing\n",
    "- Anthony Scopatz and Kathryn D. Huff, Effective Computation in Physics, O Reilly Publishing\n",
    "- John Hearty, Advanced Machine Learning with Python, Packt Publishing\n",
    "- Luciano Ramalho, Fluent Python, O' Reilly Publishing \n",
    "\n",
    "\n",
    "\n"
   ]
  }
 ],
 "metadata": {
  "celltoolbar": "Slideshow",
  "kernelspec": {
   "display_name": "Python 3 (system-wide)",
   "language": "python",
   "metadata": {
    "cocalc": {
     "description": "Python 3 programming language",
     "priority": 100,
     "url": "https://www.python.org/"
    }
   },
   "name": "python3",
   "resource_dir": "/ext/jupyter/kernels/python3"
  },
  "language_info": {
   "codemirror_mode": {
    "name": "ipython",
    "version": 3
   },
   "file_extension": ".py",
   "mimetype": "text/x-python",
   "name": "python",
   "nbconvert_exporter": "python",
   "pygments_lexer": "ipython3",
   "version": "3.4.3+"
  }
 },
 "nbformat": 4,
 "nbformat_minor": 4
}
