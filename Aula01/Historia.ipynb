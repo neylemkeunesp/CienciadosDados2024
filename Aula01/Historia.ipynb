{
 "cells": [
  {
   "cell_type": "code",
   "execution_count": 1,
   "metadata": {
    "collapsed": false,
    "slideshow": {
     "slide_type": "skip"
    }
   },
   "outputs": [
    {
     "data": {
      "text/plain": [
       "{'theme': 'beige', 'transition': 'zoom', 'start_slideshow_at': 'selected'}"
      ]
     },
     "execution_count": 1,
     "metadata": {},
     "output_type": "execute_result"
    }
   ],
   "source": [
    "from notebook.services.config import ConfigManager\n",
    "from IPython.paths import locate_profile\n",
    "cm = ConfigManager(profile_dir=locate_profile(get_ipython().profile))\n",
    "cm.update('livereveal', {\n",
    "              'theme': 'beige',\n",
    "              'transition': 'zoom',\n",
    "              'start_slideshow_at': 'selected',\n",
    "})\n",
    "\n"
   ]
  },
  {
   "cell_type": "code",
   "execution_count": 2,
   "metadata": {
    "collapsed": false
   },
   "outputs": [],
   "source": [
    "from IPython.display import display, clear_output\n",
    "from IPython.display import HTML, SVG, YouTubeVideo\n",
    "\n"
   ]
  },
  {
   "cell_type": "markdown",
   "metadata": {
    "collapsed": false,
    "slideshow": {
     "slide_type": "slide"
    }
   },
   "source": [
    "# Introdução a História da Computação e da Ciência dos Dados \n",
    "\n"
   ]
  },
  {
   "cell_type": "markdown",
   "metadata": {
    "collapsed": false
   },
   "source": [
    "## Introdução\n",
    "\n",
    "\n",
    "### Don Giovanni\n",
    "\n",
    "\n",
    ">\"Madamina, il catalogo è questo\n",
    "\n",
    ">delle belle, che amò il padron mio;\n",
    "\n",
    ">un catalogo egli è, che ho fatt'io.\n",
    "\n",
    ">Osservate, leggete con me.\n",
    "\n",
    ">In Italia seicento e quaranta,\n",
    "\n",
    ">in Almagna duecento e trentuna,\n",
    "\n",
    ">cento in Francia, in Turchia novantuna,\n",
    "\n",
    ">ma in Ispagna son già mille e tre!\n",
    "\n",
    ">V'han fra queste contadine,\n",
    "\n",
    ">cameriere, cittadine,\n",
    "\n",
    ">v'han contesse, baronesse,\n",
    "\n",
    ">marchesine, principesse,\n",
    "\n",
    ">e v'han donne d'ogni grado,\n",
    "\n",
    ">d'ogni forma, d'ogni età.\"\n",
    "\n",
    "\n"
   ]
  },
  {
   "cell_type": "code",
   "execution_count": 3,
   "metadata": {
    "collapsed": false
   },
   "outputs": [
    {
     "data": {
      "image/jpeg": "[encoded data removed]",
      "text/html": [
       "\n",
       "        <iframe\n",
       "            width=\"400\"\n",
       "            height=\"300\"\n",
       "            src=\"https://www.youtube.com/embed/D_euWOaR9Go\"\n",
       "            frameborder=\"0\"\n",
       "            allowfullscreen\n",
       "        ></iframe>\n",
       "        "
      ],
      "text/plain": [
       "<IPython.lib.display.YouTubeVideo at 0x7fd5355d78b0>"
      ]
     },
     "execution_count": 3,
     "metadata": {},
     "output_type": "execute_result"
    }
   ],
   "source": [
    "display(YouTubeVideo('D_euWOaR9Go')) #24:15\n"
   ]
  },
  {
   "cell_type": "markdown",
   "metadata": {},
   "source": [
    "## Definições\n",
    "\n",
    "Data é um conjunto de fatos discretos, como registros de transações (Davenport & Prusak, 1998), que são brutos e não pontuados (Zack, 2007). Dados precisam ser processados cognitivamente para servir como informação (Zack, 2007), que é relevante, precisa, oportuna e concisa (Tushman & Nadler, 1978). Informação é uma mensagem que possui um remetente e um destinatário, e visa ter um impacto no destinatário: ela afeta e altera o conhecimento existente do destinatário (Davenport & Prusak, 1998). Conhecimento é uma mistura única de experiência anterior e valores que é mantida no nível individual (Kogut & Zander, 1992). A informação não só altera o conhecimento existente, mas também é necessário um conhecimento prévio suficiente por parte do destinatário para entender e interpretar a informação recebida (Zack, 2007). Em suma, dados são transformados em informação que enriquece o conhecimento.\n",
    "\n",
    "![EsquemaData](esquemadata.png)\n",
    "\n",
    "## A ciência de dados é realmente uma nova ciência?\n",
    "\n",
    "### Resumo\n",
    "\n",
    "**Ciência de Dados: É Realmente uma Nova Ciência?**\n",
    "\n",
    "A ciência de dados é um campo interdisciplinar que se concentra em extrair insights significativos e conhecimento de grandes volumes de dados, utilizando uma combinação de técnicas estatísticas, computacionais e analíticas. Com raízes nos princípios da estatística, que remontam ao início dos anos 1800, a ciência de dados evoluiu significativamente com os avanços na tecnologia e na computação. O campo se expandiu para incluir práticas como inteligência artificial (IA), aprendizado de máquina (ML) e a Internet das Coisas (IoT), que permitem lidar com conjuntos de dados vastos e complexos em vários domínios, como e-commerce, saúde e finanças.\n",
    "\n",
    "O debate sobre se a ciência de dados é genuinamente uma nova ciência ou um rebranding de disciplinas existentes tem sido contínuo. Algumas vozes notáveis, como Nate Silver, veem-na como uma encarnação moderna da estatística, enquanto outros a veem como uma convergência única de múltiplos campos, incluindo ciência da computação, ciência da informação e conhecimento específico de domínios. Essa contenção destaca a natureza multifacetada da ciência de dados, integrando métodos estatísticos tradicionais com abordagens computacionais contemporâneas para analisar dados estruturados e não estruturados.\n",
    "\n",
    "O impacto da ciência de dados nas indústrias tem sido transformador, permitindo que as organizações obtenham e mantenham vantagens competitivas por meio da tomada de decisões baseada em dados e inovação. Ferramentas e tecnologias como frameworks de big data (por exemplo, Apache Spark), linguagens de programação (por exemplo, Python, R) e softwares de visualização de dados (por exemplo, Tableau, Power BI) são integrais às práticas modernas de ciência de dados. Esses avanços facilitam o processamento e a análise de grandes conjuntos de dados, tornando análises complexas mais acessíveis e eficientes.\n",
    "\n",
    "Considerações éticas e desafios, como privacidade de dados, segurança e precisão dos dados, são questões críticas no campo. O aumento da computação em nuvem e das tecnologias de big data complicou ainda mais essas preocupações, exigindo práticas robustas de gerenciamento de dados e ética. A evolução contínua da ciência de dados e sua integração com tecnologias emergentes destacam a importância de manter padrões éticos ao aproveitar o poder dos dados para impulsionar o progresso da sociedade.\n",
    "\n",
    "### Contexto Histórico\n",
    "\n",
    "A evolução da ciência de dados está profundamente enraizada nos princípios da estatística, que têm sido empregados desde o início dos anos 1800 para coletar, analisar e gerenciar dados.\n",
    "\n",
    "Modelos estatísticos simples lançaram as bases para esta disciplina, evoluindo significativamente ao longo do tempo, especialmente com o advento da era digital. Conceitos como teste de hipóteses, regressão, design experimental e modelagem estatística têm sido fundamentais para fazer inferências e previsões baseadas em dados.\n",
    "\n",
    "A história da visualização de dados também destaca a integração da arte, ciência e estatística, impulsionada por figuras-chave que pavimentaram o caminho para a ciência de dados moderna. Esses elementos fundamentais evoluíram continuamente, com avanços notáveis acelerando a expansão da ciência de dados, especialmente no início do século 20, através do trabalho de estatísticos pioneiros.\n",
    "\n",
    "Nos últimos anos, a ciência de dados transcendeu suas origens estatísticas para incluir práticas complexas, como inteligência artificial (IA), aprendizado de máquina (ML) e a Internet das Coisas (IoT). A proliferação de dispositivos capazes de coletar e armazenar informações automaticamente levou ao acúmulo de vastas quantidades de dados de texto, áudio, vídeo e imagem, impulsionando ainda mais a evolução do campo.\n",
    "\n",
    "Essa transformação tocou vários aspectos da vida humana, incluindo e-commerce, medicina e finanças. A fusão da ciência de dados com tecnologias emergentes e considerações éticas continua a moldar sua trajetória, tornando-a um campo multidimensional que se cruza com várias tecnologias e domínios. Organizações modernas aproveitam esses avanços para ganhar e sustentar vantagens competitivas, utilizando tecnologias de Big Data para impulsionar a inovação em diversos setores.\n",
    "\n",
    "À medida que avançamos para o futuro, a adaptabilidade da ciência de dados a novos desafios e oportunidades será crucial para desbloquear todo o potencial da tomada de decisões orientada por dados em todos os setores.\n",
    "\n",
    "## Definindo Ciência de Dados\n",
    "\n",
    "A ciência de dados é um campo interdisciplinar focado em extrair conhecimento de conjuntos de dados tipicamente grandes e aplicar o conhecimento e insights desses dados para resolver problemas em uma ampla gama de domínios de aplicação. O campo abrange a preparação de dados para análise, a formulação de problemas de ciência de dados, a análise de dados, o desenvolvimento de soluções orientadas por dados e a apresentação de descobertas para informar decisões de alto nível em vários domínios de aplicação.\n",
    "\n",
    "A ciência de dados visa unificar estatísticas, análise de dados, informática e métodos relacionados para entender e analisar fenômenos reais usando dados. Ela emprega técnicas e teorias de múltiplas disciplinas, incluindo matemática, estatística, ciência da computação, ciência da informação e conhecimento específico de domínio, para extrair ou extrapolar conhecimento e insights de dados potencialmente ruidosos, estruturados ou não estruturados.\n",
    "\n",
    "Um aspecto crucial da ciência de dados é sua natureza multifacetada, integrando princípios e práticas de campos diversos como matemática, estatística, inteligência artificial e engenharia de computação. Essa abordagem multidisciplinar permite que os cientistas de dados abordem questões como o que aconteceu, por que aconteceu, o que acontecerá e o que pode ser feito com os resultados.\n",
    "\n",
    "As metodologias usadas na ciência de dados abrangem uma ampla gama de técnicas estatísticas e analíticas enraizadas em séculos de trabalho matemático e estatístico, junto com métodos mais novos derivados de pesquisas avançadas em aprendizado de máquina e aprendizado profundo. Entre essas técnicas estão teste de hipóteses, regressão, design experimental, modelagem estatística e vários algoritmos que facilitam o trabalho com grandes conjuntos de dados.\n",
    "\n",
    "O campo também depende fortemente de tecnologias de big data, como Apache Spark e frameworks de computação distribuída para gerenciar grandes conjuntos de dados, e ferramentas de visualização de dados como Tableau, Power BI e matplotlib/seaborn em Python, que são usadas para criar representações visuais de dados para análise exploratória e apresentação. Além disso, softwares estatísticos tradicionais como R, SAS e SPSS continuam a desempenhar um papel vital na análise de dados.\n",
    "\n",
    "## Evolução da Ciência de Dados\n",
    "\n",
    "A evolução da ciência de dados envolveu discussões de cientistas, estatísticos, pesquisadores, cientistas da computação e pioneiros da indústria notáveis por gerações. Apesar de virem de várias profissões, a ciência de dados tornou-se um assunto único que combina vários domínios e usa métodos científicos para extrair insights úteis de dados em escala. Contribuições dos campos da ciência da computação, inteligência artificial, estatística, visualização e campos aliados moldaram a história da ciência de dados. Entre as inovações importantes que aceleraram o surgimento e a expansão da ciência de dados estão conceitos fundamentais da estatística, como teste de hipóteses, regressão, design experimental e modelagem estatística, que fornecem a base matemática para fazer inferências e previsões baseadas em dados. O trabalho fundamental de estatísticos líderes do início do século 20 moldou muitas técnicas usadas na ciência de dados hoje.\n",
    "\n",
    "A ciência de dados, antes um campo de nicho, evoluiu para uma potência que impulsiona a inovação em diversos setores. Na era digital, onde os dados são abundantes e onipresentes, o papel dos cientistas de dados tornou-se cada vez mais crucial. Uma das vozes mais reconhecidas em estatística, Nate Silver, fundador do FiveThirtyEight, afirmou que a ciência de dados é apenas um rebranding da estatística. No entanto, acadêmicos de destaque, incluindo Vasant Dhar da NYU, Andrew Gelman da Columbia University e David Donoho da Stanford, descrevem a ciência de dados como um ramo aplicado da estatística resultante do surgimento da ciência da computação. A automação de serviços de computação em nuvem para nuvens públicas e privadas, usando inteligência artificial e aprendizado de máquina, influenciou significativamente o campo. A computação em nuvem ajuda a lidar com grandes conjuntos de dados para a tomada de decisões e reduz o custo geral da infraestrutura. Democratizou os dados, permitindo que empresas menores realizem análises de dados e concorram com multinacionais maiores.\n",
    "\n",
    "## Ferramentas, Tecnologias e Frameworks\n",
    "\n",
    "A ciência de dados, sendo um campo multidisciplinar, emprega uma vasta gama de ferramentas, tecnologias e frameworks para lidar com as complexidades associadas à análise de grandes volumes de dados. Essas ferramentas permitem que os cientistas de dados extraiam insights significativos e impulsionem processos de tomada de decisão em diversas indústrias.\n",
    "\n",
    "### Tecnologias de Big Data\n",
    "\n",
    "As tecnologias de Big Data desempenham um papel fundamental no cenário da ciência de dados, facilitando a gestão e análise de extensos conjuntos de dados. As tecnologias mais frequentemente usadas incluem Hadoop e MapReduce, que são projetadas para lidar com grandes quantidades de dados distribuindo a carga de processamento por vários nós em um cluster. À medida que os volumes de dados crescem, as técnicas e plataformas de dados tradicionais tornam-se menos eficientes, tornando a adoção dessas tecnologias essencial para a análise de dados moderna.\n",
    "\n",
    "### Linguagens de Programação\n",
    "\n",
    "A proficiência em linguagens de programação é crucial para os cientistas de dados. Python tornou-se a linguagem preferida devido à sua versatilidade e à disponibilidade de várias bibliotecas voltadas para a análise de dados, como Pandas, NumPy e Scikit-Learn. R é outra língua significativa na ciência de dados, valorizada por suas poderosas capacidades de análise estatística e flexibilidade em integrar-se com outras linguagens como C++ e Fortran. A demanda por habilidades em Python em funções de ciência de dados disparou, refletindo sua adoção generalizada na indústria.\n",
    "\n",
    "### Software Estatístico\n",
    "\n",
    "Pacotes de software estatístico como R, SAS e SPSS são amplamente usados para análise de dados. Essas ferramentas fornecem uma gama abrangente de funções e procedimentos estatísticos, incluindo teste de hipóteses, análise de regressão e ANOVA. Apesar de suas robustas capacidades estatísticas, muitas vezes carecem da flexibilidade oferecida por ferramentas mais orientadas à programação, o que limita sua aplicação em certas tarefas de ciência de dados.\n",
    "\n",
    "### Frameworks Ágeis\n",
    "\n",
    "Frameworks ágeis são cada vez mais empregados em projetos de ciência de dados para melhorar a colaboração da equipe e o gerenciamento de projetos. Frameworks notáveis incluem Kanban, emprestado da manufatura, Scrum do desenvolvimento de software, e Data Driven Scrum, que é especificamente projetado para ciência de dados. Esses frameworks podem ser misturados e combinados para criar uma metodologia abrangente que se alinha às necessidades específicas da equipe e do projeto.\n",
    "\n",
    "## **Ferramentas e Plataformas de Ciência de Dados**\n",
    "\n",
    "Uma variedade de ferramentas e plataformas está disponível para suportar atividades de ciência de dados. Essas incluem ferramentas de visualização de dados que auxiliam na descoberta e análise de dados, e aplicativos de análise avançada usados para aprendizado de máquina e modelagem preditiva. Tais ferramentas são integrais para desenvolver modelos complexos para tarefas como análise preditiva, processamento de linguagem natural (NLP) e visão computacional.\n",
    "\n",
    "### **Educação e Treinamento**\n",
    "\n",
    "Educação contínua e atualização com os últimos avanços na ciência de dados são vitais. Cursos e certificações que cobrem tópicos fundamentais e avançados em ciência de dados ajudam os profissionais a se manterem atualizados com novas ferramentas e metodologias. Por exemplo, cursos que enfatizam a aplicação prática dos princípios de ciência de dados por meio de estudos de caso e exemplos do mundo real são altamente benéficos.\n",
    "\n",
    "### **Aplicações em Diversas Indústrias**\n",
    "\n",
    "A ciência de dados tornou-se uma parte integral de inúmeras indústrias, impulsionando a inovação e otimizando operações. Suas aplicações são vastas e variadas, refletindo a natureza multidisciplinar do campo.\n",
    "\n",
    "### **Saúde**\n",
    "\n",
    "Na saúde, a ciência de dados é utilizada para gerar insights clínicos que melhoram o atendimento ao paciente. Ferramentas avançadas de análise de saúde ajudam a definir medicamentos personalizados, o que pode reduzir os custos operacionais para clínicas e hospitais. O Processamento de Linguagem Natural (NLP) é frequentemente empregado para estudar dados de pesquisa textual publicada, facilitando uma compreensão mais profunda da literatura médica e dos registros dos pacientes. Além disso, técnicas de ciência de dados em imagens médicas e visão computacional contribuem para diagnósticos e planos de tratamento mais precisos.\n",
    "\n",
    "### **Finanças**\n",
    "\n",
    "A indústria financeira utiliza a ciência de dados para vários fins, incluindo detecção de fraudes, gerenciamento de riscos e serviços financeiros personalizados. Algoritmos de aprendizado de máquina analisam dados de transações para identificar atividades fraudulentas e prever riscos potenciais. Além disso, ferramentas de ciência de dados são usadas para adaptar produtos e serviços financeiros às necessidades individuais dos clientes, melhorando a experiência do cliente e impulsionando o crescimento dos negócios.\n",
    "\n",
    "### **Varejo**\n",
    "\n",
    "No setor de varejo, a ciência de dados desempenha um papel crucial na gestão de inventário, segmentação de clientes e sistemas de recomendação. Os varejistas usam análises preditivas para antecipar a demanda, garantindo níveis ótimos de estoque e reduzindo o desperdício. Motores de recomendação, impulsionados pela ciência de dados, analisam o comportamento e as preferências dos clientes para sugerir produtos relevantes, aumentando as vendas e a satisfação dos clientes.\n",
    "\n",
    "### **Manufatura**\n",
    "\n",
    "As indústrias de manufatura se beneficiam da ciência de dados por meio de manutenção preditiva e otimização de processos. Ao analisar dados de máquinas e equipamentos, os fabricantes podem prever quando a manutenção é necessária, evitando quebras custosas e reduzindo o tempo de inatividade. A ciência de dados também ajuda a automatizar processos de negócios, melhorando a eficiência e garantindo padrões de produção de alta qualidade.\n",
    "\n",
    "### **E-commerce**\n",
    "\n",
    "Plataformas de e-commerce utilizam extensivamente a ciência de dados para análise de mercado, insights de clientes e marketing direcionado. Empresas como a Amazon analisam grandes quantidades de dados para entender as preferências e padrões de compras dos clientes. Isso lhes permite otimizar suas ofertas de produtos, estratégias de preços e campanhas de marketing, mantendo-se à frente em um mercado competitivo. Análises de dados também ajudam a construir experiências de compras personalizadas, que aumentam a lealdade dos clientes e a receita.\n",
    "\n",
    "### **Aviação**\n",
    "\n",
    "Na indústria de aviação, a ciência de dados é empregada para prever padrões de reservas de voos e otimizar a alocação de recursos. Ao analisar dados de reservas passadas, as companhias aéreas podem prever a demanda por rotas específicas e ajustar seus horários e esforços de marketing de acordo. Isso não só melhora a eficiência operacional, mas também aumenta a satisfação do cliente por meio de melhores ofertas de serviços.\n",
    "\n",
    "### **Agricultura**\n",
    "\n",
    "Avanços tecnológicos na agricultura, apoiados pela ciência de dados, levaram a maiores rendimentos de colheitas e melhor gestão de recursos. Ao analisar dados sobre padrões climáticos, condições do solo e saúde das colheitas, os agricultores podem tomar decisões informadas que aumentam a produtividade e reduzem o desperdício. A ciência de dados também contribui para o desenvolvimento de técnicas de agricultura inteligente, permitindo uma agricultura de precisão que maximiza a produção enquanto minimiza o impacto ambiental.\n",
    "\n",
    "### Tecnologia\n",
    "\n",
    "O setor de tecnologia em si é um grande beneficiário da ciência de dados, impulsionando inovações em inteligência artificial (IA), computação em nuvem e análises de big data. As organizações usam metodologias de ciência de dados para desenvolver novos produtos e serviços, melhorar as experiências dos usuários e otimizar suas operações. A proliferação de dispositivos que coletam e armazenam informações automaticamente levou a uma explosão de dados, que os cientistas de dados analisam para descobrir insights valiosos e impulsionar o progresso tecnológico.\n",
    "\n",
    "### Caminhos Educacionais e Desenvolvimento de Carreira\n",
    "\n",
    "O campo da ciência de dados está experimentando uma demanda sem precedentes, à medida que organizações em diversos setores buscam profissionais capazes de interpretar e aproveitar grandes quantidades de dados. Como resultado, houve um aumento notável na disponibilidade e variedade de programas educacionais projetados para equipar indivíduos com as habilidades necessárias para esse campo em crescimento.\n",
    "\n",
    "### Programas de Ensino Superior\n",
    "\n",
    "As universidades responderam à crescente necessidade de expertise em ciência de dados oferecendo programas especializados. Por exemplo, a Michigan Tech oferece um mestrado online em estatísticas aplicadas, enfatizando a integração de habilidades computacionais com conhecimento teórico para resolver problemas do mundo real. Da mesma forma, Washington, D.C., é o lar de vários programas de mestrado em ciência de dados, preparando graduados para contribuir significativamente para o campo. Esses programas de grau avançado normalmente combinam instrução em conceitos computacionais e estatísticos fundamentais, permitindo que os alunos lidem com dados reais em vários domínios. Cursos fundamentais são frequentemente acessíveis a estudantes de graduação de diversas origens acadêmicas, mesmo aqueles sem experiência prévia. Essa abordagem inclusiva garante que uma ampla gama de estudantes possa desenvolver competências em ciência de dados.\n",
    "\n",
    "### Cursos Online e eLearning\n",
    "\n",
    "Para acomodar as diversas necessidades dos aprendizes, diversas plataformas online e de eLearning surgiram, oferecendo cursos e certificações em ciência de dados e áreas relacionadas. Simplilearn, por exemplo, oferece cursos de ciência de dados projetados para ajudar iniciantes e profissionais a ganharem habilidades essenciais e se manterem competitivos no cenário evolutivo de big data. Outros programas notáveis incluem o Certificado Profissional de Análise de Dados do Google, o Certificado Profissional de Ciência de Dados da IBM e o Certificado Profissional de Analista de Dados da Meta, cada um adaptado a diferentes aspectos da análise e ciência de dados. Esses cursos online frequentemente apresentam ferramentas interativas, como vídeos, discussões entre pares, enquetes e questionários, para melhorar a experiência de aprendizado e tornar tópicos complexos mais acessíveis."
   ]
  },
  {
   "cell_type": "markdown",
   "metadata": {
    "collapsed": false
   },
   "source": [
    "# Primórdios da Coleta de Dados\n",
    "\n"
   ]
  },
  {
   "cell_type": "markdown",
   "metadata": {
    "collapsed": false
   },
   "source": [
    "## Enchentes do Nilo\n",
    "\n",
    "O faraó disse a José: \"Tive um sonho que ninguém consegue interpre­tar. Mas ouvi falar que você, ao \n",
    "ouvir um sonho, é capaz de interpretá-lo\".\n",
    "\n",
    "Respondeu-lhe José: \"Isso não depende de mim, mas Deus dará ao faraó uma resposta favorável\".\n",
    "\n",
    "Então o faraó contou o sonho a José: \"Sonhei que estava em pé, à beira do Nilo,\n",
    "\n",
    "quando saíram do rio sete vacas, belas e gor­das, que começaram a pastar entre os juncos.\n",
    "\n",
    "Depois saíram outras sete, raquíticas, muito feias e magras. Nunca vi vacas tão feias em toda a terra do Egito.\n",
    "\n",
    "As vacas magras e feias comeram as sete vacas gordas que tinham aparecido primeiro.\n",
    "\n",
    "Mes­mo depois de havê-las comido, não parecia que o tivessem feito, pois continuavam tão magras \n",
    "como antes. Então acordei.\n",
    "\n",
    "\"Depois tive outro sonho. Vi sete espigas de cereal, cheias e boas, que cresciam num mesmo pé.\n",
    "\n",
    "Depois delas, brotaram outras sete, murchas e mirradas, ressequidas pelo vento les­te.\n",
    "\n",
    "As espigas magras engoliram as sete espigas boas. Contei isso aos magos, mas ninguém foi capaz de explicá-lo\".\n",
    "\n",
    "\"O faraó teve um único sonho\", disse-lhe José. \"Deus revelou ao faraó o que ele está para fazer.\n",
    "\n",
    "As sete vacas boas são sete anos, e as sete espigas boas são também sete anos; trata-se de um único sonho.\n",
    "\n",
    "As sete vacas magras e feias que surgiram depois das outras, e as sete espigas mirradas, queimadas \n",
    "\n",
    "pelo vento leste, são sete anos. Serão sete anos de fome.\n",
    "\n",
    "\"É exatamente como eu disse ao faraó: Deus mostrou ao faraó aquilo que ele vai fazer.\n",
    "\n",
    "![Enchents](enchentes.png)\n",
    "\n"
   ]
  },
  {
   "cell_type": "markdown",
   "metadata": {},
   "source": [
    "## Tableta Suméria\n",
    "\n",
    "\n",
    "![TabletaSuméria](tabletaSumeria.png)"
   ]
  },
  {
   "cell_type": "markdown",
   "metadata": {
    "collapsed": false
   },
   "source": [
    "## Primórdios da Computação\n",
    "\n",
    "* O problema da agulha de  Buffon  em 1753\n",
    "* Babbage em 1822 propõe um computador para calcular funções polinomiais\n",
    "* Ada Lovelace em 1842 propõe um algoritmo para calcular números de Bernoulli\n",
    "* MW Kutta and CT Runge propõe o método de Runge Kutta para EDOs\n",
    "* Em 1920 Richardson prevê o tempo usando método numérico"
   ]
  },
  {
   "cell_type": "markdown",
   "metadata": {
    "collapsed": false,
    "slideshow": {
     "slide_type": "slide"
    }
   },
   "source": [
    "\n",
    "# Antes do computador"
   ]
  },
  {
   "cell_type": "markdown",
   "metadata": {
    "collapsed": false,
    "slideshow": {
     "slide_type": "subslide"
    }
   },
   "source": [
    "# Ábaco\n",
    "\n",
    "![Abacus](Abacus_6.png)\n"
   ]
  },
  {
   "cell_type": "markdown",
   "metadata": {
    "collapsed": false,
    "slideshow": {
     "slide_type": "subslide"
    }
   },
   "source": [
    "# Astrolábio\n",
    "\n",
    "<img src=\"800px-Iranian_Astrolabe_14.jpg\" alt=\"Astrolabio\" style=\"width: 500px;\"/>\n",
    "\n",
    "\n",
    "\n",
    "\n",
    "\n"
   ]
  },
  {
   "cell_type": "markdown",
   "metadata": {
    "collapsed": false
   },
   "source": [
    "## Tyco Brahe\n",
    "\n",
    "![Tyco](universo_titonico.gif)"
   ]
  },
  {
   "cell_type": "markdown",
   "metadata": {
    "collapsed": false,
    "slideshow": {
     "slide_type": "subslide"
    }
   },
   "source": [
    "# Régua de Cálculo\n",
    "\n",
    "Inventada por  William Oughtred no século XVIII\n",
    "\n",
    "![Ábaco](Pocket_slide_rule.jpg)"
   ]
  },
  {
   "cell_type": "markdown",
   "metadata": {
    "collapsed": false
   },
   "source": [
    "## Gregor Mendel\n",
    "\n",
    "![Dados do Mendel](mendel.png)"
   ]
  },
  {
   "cell_type": "markdown",
   "metadata": {
    "collapsed": false,
    "slideshow": {
     "slide_type": "slide"
    }
   },
   "source": [
    "# Era Moderna - 1940\n",
    "\n",
    "* von Neumann, Ulam and Metropolis desenvolvem o Algoritmo de Monte Carlo\n",
    "* Simulações são essenciais para o projeto da bomba\n",
    "* Ulam and von Neumann propõe o conceito de Automatos Celulares \n",
    "* Turing consegue quebrar o códidigo da máquina Enigma"
   ]
  },
  {
   "cell_type": "markdown",
   "metadata": {
    "collapsed": false,
    "slideshow": {
     "slide_type": "subslide"
    }
   },
   "source": [
    "# Eniac\n",
    "![ENIAC](eniac-the-second-electronic-calculator-los-alamos-national-laboratory.jpg)"
   ]
  },
  {
   "cell_type": "markdown",
   "metadata": {
    "collapsed": false,
    "slideshow": {
     "slide_type": "subslide"
    }
   },
   "source": [
    "# Máquina de Turing\n",
    "\n",
    "![Turing](article-1165535-0412A762000005DC-835_962x657.jpg)\n",
    "\n"
   ]
  },
  {
   "cell_type": "markdown",
   "metadata": {
    "collapsed": false,
    "slideshow": {
     "slide_type": "slide"
    }
   },
   "source": [
    "# Era Moderna (1950-1960)\n",
    "\n",
    "* Alder and Wainwrigh implementam o primeiro código de Dinâmica Molecular\n",
    "* Cooley and Tukey inventam FFT *Fast Fourier Transform* \n",
    "* Lorenz propõe o Efeito Borboleta\n",
    "* Linguagens Lisp e Fortran são criadas"
   ]
  },
  {
   "cell_type": "markdown",
   "metadata": {
    "collapsed": false,
    "slideshow": {
     "slide_type": "subslide"
    }
   },
   "source": [
    "# Atrator de Lorenz\n",
    "\n",
    "![Lorenz](maxresdefault.jpg)"
   ]
  },
  {
   "cell_type": "markdown",
   "metadata": {
    "collapsed": false,
    "slideshow": {
     "slide_type": "slide"
    }
   },
   "source": [
    "# Era Moderna (1970)\n",
    "\n",
    "- Primeiras Calculadoras Científicas\n",
    "- Estações de Trabalho\n",
    "- Kernie e Ritchie criam Unix e a linguagem C"
   ]
  },
  {
   "cell_type": "markdown",
   "metadata": {
    "collapsed": false
   },
   "source": [
    "## Dados de Mc Namara na guerra do Vietnam\n",
    "\n",
    "![Mc Namara](mcnamara.png)\n",
    "\n"
   ]
  },
  {
   "cell_type": "markdown",
   "metadata": {
    "collapsed": false,
    "slideshow": {
     "slide_type": "subslide"
    }
   },
   "source": [
    "# Máquinas Calculadoras\n",
    "\n",
    "<img src=\"800px-Hp-35_1972.jpg\" alt=\"HP\" style=\"width: 300px;\"/>\n",
    "\n",
    "\n"
   ]
  },
  {
   "cell_type": "markdown",
   "metadata": {
    "collapsed": false,
    "slideshow": {
     "slide_type": "slide"
    }
   },
   "source": [
    "# Era Moderna (1980)\n",
    "\n",
    "* Computadores pessoais\n",
    "* Início da Web\n",
    "* Bancos de Dados Relacionais\n",
    "* Supercomputadores vetoriais\n",
    "* E-mail"
   ]
  },
  {
   "cell_type": "markdown",
   "metadata": {
    "collapsed": false
   },
   "source": [
    "![WWW Projeto Inicial](https://cds.cern.ch/record/2665088/files/FirstProposalMarch1989.jpg?subformat=icon-1440)"
   ]
  },
  {
   "cell_type": "markdown",
   "metadata": {
    "collapsed": false,
    "slideshow": {
     "slide_type": "subslide"
    }
   },
   "source": [
    "# Cray\n",
    "\n",
    "![Cray](cray.jpg)"
   ]
  },
  {
   "cell_type": "markdown",
   "metadata": {
    "collapsed": false,
    "slideshow": {
     "slide_type": "slide"
    }
   },
   "source": [
    "# Dias Atuais\n",
    "\n",
    "* Placas Gráficas\n",
    "* Inteligência Artifical (Deep Learning)\n",
    "* Computação em Nuvem\n",
    "* Cambridge Analytics\n",
    "* LGPD"
   ]
  },
  {
   "cell_type": "markdown",
   "metadata": {
    "collapsed": false
   },
   "source": [
    "## Projeto Genoma Humano\n",
    "\n",
    "![GenomaHumano](genomahumanonature.jpeg)"
   ]
  },
  {
   "cell_type": "markdown",
   "metadata": {
    "collapsed": false
   },
   "source": [
    "## Conectoma do Cérebro Humano\n",
    "\n",
    "![conectoma](conectome.jpeg)\n",
    "\n"
   ]
  },
  {
   "cell_type": "markdown",
   "metadata": {
    "collapsed": false,
    "slideshow": {
     "slide_type": "slide"
    }
   },
   "source": [
    "# Promessas\n",
    "\n",
    "* Computação Quântica\n",
    "* Blockchain\n",
    "* Internet das Coisas\n"
   ]
  },
  {
   "cell_type": "code",
   "execution_count": null,
   "metadata": {
    "collapsed": false
   },
   "outputs": [],
   "source": []
  }
 ],
 "metadata": {
  "celltoolbar": "Slideshow",
  "kernelspec": {
   "display_name": "Python 3 (system-wide)",
   "language": "python",
   "metadata": {
    "cocalc": {
     "description": "Python 3 programming language",
     "priority": 100,
     "url": "https://www.python.org/"
    }
   },
   "name": "python3",
   "resource_dir": "/ext/jupyter/kernels/python3"
  },
  "language_info": {
   "codemirror_mode": {
    "name": "ipython",
    "version": 3
   },
   "file_extension": ".py",
   "mimetype": "text/x-python",
   "name": "python",
   "nbconvert_exporter": "python",
   "pygments_lexer": "ipython3",
   "version": "3.8.5"
  }
 },
 "nbformat": 4,
 "nbformat_minor": 4
}
