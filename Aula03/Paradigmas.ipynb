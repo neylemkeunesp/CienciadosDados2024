{
 "cells": [
  {
   "cell_type": "code",
   "execution_count": null,
   "metadata": {
    "collapsed": true,
    "slideshow": {
     "slide_type": "skip"
    }
   },
   "outputs": [],
   "source": [
    "from notebook.services.config import ConfigManager\n",
    "from IPython.paths import locate_profile\n",
    "cm = ConfigManager(profile_dir=locate_profile(get_ipython().profile))\n",
    "cm.update('livereveal', {\n",
    "              'theme': 'beige',\n",
    "              'transition': 'zoom',\n",
    "              'start_slideshow_at': 'selected',\n",
    "})\n"
   ]
  },
  {
   "cell_type": "code",
   "execution_count": null,
   "metadata": {},
   "outputs": [],
   "source": [
    "Título: Principais Características do Paradigma Computacional\n",
    "1. Introdução ao Paradigma Computacional\n",
    "Definição: Paradigmas computacionais são abordagens ou estilos para resolver problemas computacionais, fornecendo frameworks que guiam o design de algoritmos e a estruturação de código.\n",
    "Importância: Entender paradigmas ajuda na escolha da abordagem mais eficiente para um problema específico.\n",
    "2. Principais Paradigmas Computacionais\n",
    "2.1. Paradigma Imperativo\n",
    "Características:\n",
    "Baseia-se em instruções sequenciais e controle explícito de fluxo.\n",
    "Uso extensivo de loops, condicionais e variáveis para manipular estado.\n",
    "Exemplos de linguagens: C, Fortran, Python (modo imperativo).\n",
    "Vantagens:\n",
    "Facilidade de implementação para problemas onde o fluxo de controle é essencial.\n",
    "Boa performance para algoritmos que necessitam de controle explícito sobre o hardware.\n",
    "Desvantagens:\n",
    "Código pode se tornar complexo e difícil de manter devido ao estado mutável.\n",
    "2.2. Paradigma Funcional\n",
    "Características:\n",
    "Foco em funções puras e imutabilidade.\n",
    "Uso de expressões matemáticas, evitando efeitos colaterais e estados mutáveis.\n",
    "Exemplos de linguagens: Haskell, Lisp, Python (usando funções lambda, map, etc.).\n",
    "Vantagens:\n",
    "Código mais previsível e fácil de testar devido à ausência de estados mutáveis.\n",
    "Facilita o paralelismo e a concorrência.\n",
    "Desvantagens:\n",
    "Curva de aprendizado mais acentuada para quem vem de paradigmas imperativos.\n",
    "Pode ser menos intuitivo para problemas que naturalmente envolvem estados mutáveis.\n",
    "2.3. Paradigma Orientado a Objetos\n",
    "Características:\n",
    "Estruturação em torno de objetos, que combinam estado (atributos) e comportamento (métodos).\n",
    "Princípios-chave: encapsulamento, herança e polimorfismo.\n",
    "Exemplos de linguagens: Java, C++, Python (modo orientado a objetos).\n",
    "Vantagens:\n",
    "Reuso de código através da herança.\n",
    "Organização intuitiva de sistemas complexos como coleções de objetos interagentes.\n",
    "Desvantagens:\n",
    "Pode introduzir complexidade desnecessária se mal utilizado (excesso de hierarquias, etc.).\n",
    "Problemas com o acoplamento entre classes podem surgir.\n",
    "2.4. Paradigma Declarativo\n",
    "Características:\n",
    "Foca em descrever o \"o quê\" deve ser feito, não \"como\" fazer.\n",
    "Exemplos incluem programação lógica e programação com restrições.\n",
    "Exemplos de linguagens: SQL, Prolog.\n",
    "Vantagens:\n",
    "Permite abstrair detalhes de implementação, facilitando a resolução de problemas complexos.\n",
    "Bom para domínios específicos como bancos de dados e inteligência artificial.\n",
    "Desvantagens:\n",
    "Menor controle sobre a execução real do código, o que pode impactar na performance.\n",
    "Requer um entendimento profundo do domínio do problema para aproveitar seus benefícios.\n",
    "3. Paradigmas Emergentes\n",
    "Paradigma Concorrente: Envolve execução de processos em paralelo para melhorar desempenho e eficiência.\n",
    "Paradigma Dirigido por Eventos: Baseado na reação a eventos externos, como cliques de usuário ou mensagens de rede.\n",
    "Paradigma Reativo: Foca em sistemas que respondem a fluxos de dados e eventos em tempo real.\n",
    "4. Comparação dos Paradigmas\n",
    "Tabela comparativa destacando as principais características, vantagens e desvantagens de cada paradigma.\n",
    "5. Conclusão\n",
    "Discussão sobre a importância de combinar paradigmas para obter soluções mais robustas.\n",
    "A escolha do paradigma certo depende do problema, do contexto e da experiência da equipe de desenvolvimento.\n",
    "6. Referências\n",
    "Links para leituras adicionais e recursos educacionais sobre paradigmas computacionais.\n",
    "Esse esboço cobre as principais características de cada paradigma computacional. Precisa de mais algum detalhe ou deseja que eu aprofunde algum tópico específico"
   ]
  },
  {
   "cell_type": "markdown",
   "metadata": {
    "collapsed": false,
    "slideshow": {
     "slide_type": "slide"
    }
   },
   "source": [
    "# Paradigmas Computacionais\n",
    "\n",
    "- Programação Estruturada\n",
    "- Orientação Objeto\n",
    "- Programação Funcional"
   ]
  },
  {
   "cell_type": "markdown",
   "metadata": {
    "collapsed": false,
    "slideshow": {
     "slide_type": "subslide"
    }
   },
   "source": [
    "## Programação Estruturada\n",
    "\n",
    "Na programação o conceito essencial é o de laço ('for' ou 'do'), o uso de condicionais como 'while' e 'if'. \n",
    "O uso de funções ou subrotinas que minimizem a duplicação de código. Os dados em geral são organizados em forma de estruras como vetores e matrizes, ou ainda estruturas mais complexas, envolvendo tipos variados. "
   ]
  },
  {
   "cell_type": "markdown",
   "metadata": {
    "collapsed": false,
    "slideshow": {
     "slide_type": "subslide"
    }
   },
   "source": [
    "## Orientação Objeto\n",
    "\n",
    "Na orientação objeto os dados são chamados de objetos e as funções são chamadas de métodos e temos ainda classes que reunem esses elemntos em macro-estruturas. A linguagem Python é essencialmente uma linguagem Orientada à Objetos, pois permite a definição de classes e métodos. Mas o seu uso é facultativo, ao contrário de Java onde seu uso é compulsório. "
   ]
  },
  {
   "cell_type": "markdown",
   "metadata": {
    "collapsed": false,
    "slideshow": {
     "slide_type": "subslide"
    }
   },
   "source": [
    "## Programação Funcional\n",
    "\n",
    "Na programação funcional não se enfatiza o uso de laços, mas o uso de operações em sequencia sobre estruturas de dados chamadas de listas, Existem dois tipos de operações básicas 'map' e 'reduce'. Uma que executa operações de forma seriada e a outra que agrega esses resultados. Nos dias de hoje com uma grande diversidade de arquiteturas computacionais disponíveis, a programação funcional tem recuperado espaço. Python permite o uso de construções funcionais mas não exige. "
   ]
  },
  {
   "cell_type": "markdown",
   "metadata": {
    "collapsed": false,
    "slideshow": {
     "slide_type": "slide"
    }
   },
   "source": [
    "## Catedral e o Bazar\n",
    "\n",
    "Existem dois grandes modelos de desenvolvimento de sistemas computacionais. Um deles \n",
    "é o modelo de desenvolvimento de software. Em um deles temos uma estrutura centralizada que planeja o sistema como um todo. Esse sistema é representado pela catedral. No outro modelo temos um sistema não centralizado e com um organização mais fluida representado pelo bazar. \n",
    "\n",
    "Nesse contexto o Linux é o exemplo clássico de desenvolvimento tipo *bazar* e o *Windows* é o sistema típico da estyratégia catedral. O caráter comercial não é o aspecto mais relevante, pois tanto Google como Apple usam sistemas que tem componentes mais próximos do modelo bazar. (Para mais detalhes: Eric Steven Raymond  http://www.catb.org/~esr/writings/cathedral-bazaar/cathedral-bazaar/)\n",
    "\n",
    " "
   ]
  }
 ],
 "metadata": {
  "celltoolbar": "Slideshow",
  "kernelspec": {
   "display_name": "Python 3 (Ubuntu Linux)",
   "language": "python",
   "name": "python3"
  },
  "language_info": {
   "codemirror_mode": {
    "name": "ipython",
    "version": 3
   },
   "file_extension": ".py",
   "mimetype": "text/x-python",
   "name": "python",
   "nbconvert_exporter": "python",
   "pygments_lexer": "ipython3",
   "version": "3.6.7"
  }
 },
 "nbformat": 4,
 "nbformat_minor": 0
}
