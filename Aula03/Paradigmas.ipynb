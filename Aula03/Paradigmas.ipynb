{
 "cells": [
  {
   "cell_type": "code",
   "execution_count": null,
   "metadata": {
    "collapsed": true,
    "slideshow": {
     "slide_type": "skip"
    }
   },
   "outputs": [],
   "source": [
    "from notebook.services.config import ConfigManager\n",
    "from IPython.paths import locate_profile\n",
    "cm = ConfigManager(profile_dir=locate_profile(get_ipython().profile))\n",
    "cm.update('livereveal', {\n",
    "              'theme': 'beige',\n",
    "              'transition': 'zoom',\n",
    "              'start_slideshow_at': 'selected',\n",
    "})\n"
   ]
  },
  {
   "cell_type": "markdown",
   "metadata": {},
   "source": []
  },
  {
   "cell_type": "markdown",
   "metadata": {},
   "source": [
    "#  Principais Características do Paradigma Computacional\n",
    "## Paradigmas Computacionais\n",
    "\n",
    "*Definição:*  Paradigmas computacionais são abordagens ou estilos para resolver problemas computacionais, fornecendo frameworks que guiam o design de algoritmos e a estruturação de código.\n",
    "\n",
    "*Importância:*  Entender paradigmas ajuda na escolha da abordagem mais eficiente para um problema específico.\n"
   ]
  },
  {
   "cell_type": "markdown",
   "metadata": {},
   "source": [
    "## Principais Paradigmas Computacionais\n",
    "### Paradigma Imperativo\n",
    "*Características:*\n",
    "\n",
    "Baseia-se em instruções sequenciais e controle explícito de fluxo.\n",
    "Uso extensivo de loops, condicionais e variáveis para manipular estado.\n",
    "Exemplos de linguagens: C, Fortran, Python (modo imperativo).\n",
    "\n",
    "*Vantagens:* \n",
    "\n",
    "Facilidade de implementação para problemas onde o fluxo de controle é essencial.\n",
    "Boa performance para algoritmos que necessitam de controle explícito sobre o hardware.\n",
    "\n",
    "*Desvantagens:*\n",
    "\n",
    "Código pode se tornar complexo e difícil de manter devido ao estado mutável.\n",
    "\n"
   ]
  },
  {
   "cell_type": "markdown",
   "metadata": {},
   "source": [
    "### Paradigma Funcional\n",
    "\n",
    "*Características:*\n",
    "\n",
    "Foco em funções puras e imutabilidade.\n",
    "Uso de expressões matemáticas, evitando efeitos colaterais e estados mutáveis.\n",
    "\n",
    "Exemplos de linguagens: Haskell, Lisp, Python (usando funções lambda, map, etc.).\n",
    "\n",
    "*Vantagens:*\n",
    "Código mais previsível e fácil de testar devido à ausência de estados mutáveis.\n",
    "Facilita o paralelismo e a concorrência.\n",
    "*Desvantagens:*\n",
    "\n",
    "Curva de aprendizado mais acentuada para quem vem de paradigmas imperativos.\n",
    "Pode ser menos intuitivo para problemas que naturalmente envolvem estados mutáveis.\n"
   ]
  },
  {
   "cell_type": "markdown",
   "metadata": {},
   "source": [
    "### Paradigma Orientado a Objetos\n",
    "*Características:*\n",
    "\n",
    "Estruturação em torno de objetos, que combinam estado (atributos) e comportamento (métodos).\n",
    "Princípios-chave: encapsulamento, herança e polimorfismo.\n",
    "\n",
    "Exemplos de linguagens: Java, C++, Python (modo orientado a objetos).\n",
    "\n",
    "*Vantagens:* \n",
    "Reuso de código através da herança.\n",
    "Organização intuitiva de sistemas complexos como coleções de objetos interagentes.\n",
    "\n",
    "*Desvantagens:*\n",
    "Pode introduzir complexidade desnecessária se mal utilizado (excesso de hierarquias, etc.).\n",
    "Problemas com o acoplamento entre classes podem surgir.\n",
    "\n"
   ]
  },
  {
   "cell_type": "markdown",
   "metadata": {},
   "source": [
    "### Paradigma Declarativo\n",
    "*Características:* \n",
    "Foca em descrever o \"o quê\" deve ser feito, não \"como\" fazer.\n",
    "Exemplos incluem programação lógica e programação com restrições.\n",
    "Exemplos de linguagens: SQL, Prolog.\n",
    "\n",
    "*Vantagens:*\n",
    "Permite abstrair detalhes de implementação, facilitando a resolução de problemas complexos.\n",
    "Bom para domínios específicos como bancos de dados e inteligência artificial.\n",
    "\n",
    "*Desvantagens:* \n",
    "Menor controle sobre a execução real do código, o que pode impactar na performance.\n",
    "Requer um entendimento profundo do domínio do problema para aproveitar seus benefícios.\n"
   ]
  },
  {
   "cell_type": "markdown",
   "metadata": {},
   "source": [
    "### Paradigmas Emergentes\n",
    "\n",
    "*Paradigma Concorrente:* Envolve execução de processos em paralelo para melhorar desempenho e eficiência.\n",
    "\n",
    "*Paradigma Dirigido por Eventos:* Baseado na reação a eventos externos, como cliques de usuário ou mensagens de rede.\n",
    "\n",
    "*Paradigma Reativo:*  Foca em sistemas que respondem a fluxos de dados e eventos em tempo real.\n"
   ]
  },
  {
   "cell_type": "markdown",
   "metadata": {},
   "source": [
    "!(https://whimsical.com/paradigmas-computacionais-TtwjUzHFQakCenTGQDD6rp?ref=chatgpt)"
   ]
  },
  {
   "cell_type": "markdown",
   "metadata": {},
   "source": [
    "| Paradigma              | Exemplos de Tipos de Software                              | Exemplos de Linguagens               |\n",
    "|------------------------|------------------------------------------------------------|--------------------------------------|\n",
    "| Imperativo             | Sistemas Operacionais, Jogos, Scripts de Automação         | C, Python (imperativo), Fortran      |\n",
    "| Funcional              | Sistemas de Processamento de Dados, IA, Aplicações Web     | Haskell, Lisp, Scala, Python (funcional) |\n",
    "| Orientado a Objetos    | Aplicações de Desktop, Aplicações Web, Sistemas ERP        | Java, C++, Python (OO), C#           |\n",
    "| Declarativo            | Bancos de Dados, Sistemas de Configuração, AI (Lógica)     | SQL, Prolog, HTML, CSS               |\n"
   ]
  },
  {
   "cell_type": "markdown",
   "metadata": {},
   "source": [
    "# Conclusão\n",
    "Cada paradigma oferece uma lente diferente para enxergar e resolver problemas, e a escolha do paradigma certo depende do contexto, do problema em questão e das habilidades da equipe de desenvolvimento. Muitas vezes, a combinação de múltiplos paradigmas dentro de um mesmo projeto pode ser a melhor abordagem para aproveitar o que cada estilo tem de melhor.\n",
    "\n",
    "Compreender esses paradigmas e suas aplicações práticas é essencial para desenvolvedores e cientistas da computação, pois amplia o repertório de técnicas e ferramentas disponíveis para criar soluções mais eficientes, robustas e adequadas aos desafios modernos da computação."
   ]
  },
  {
   "cell_type": "markdown",
   "metadata": {
    "collapsed": false,
    "slideshow": {
     "slide_type": "slide"
    }
   },
   "source": [
    "## Catedral e o Bazar\n",
    "Os modelos de desenvolvimento \"Catedral\" e \"Bazar\" são duas abordagens distintas para o desenvolvimento de software, popularizadas por Eric S. Raymond em seu famoso ensaio \"The Cathedral and the Bazaar\" (1999). Esses modelos são frequentemente usados para descrever filosofias contrastantes no desenvolvimento de software livre e de código aberto.\n",
    "\n",
    "## Modelo da Catedral\n",
    "*Descrição:* No modelo da Catedral, o software é desenvolvido de forma centralizada e controlada, com um grupo pequeno de desenvolvedores responsáveis por escrever o código e tomar decisões importantes. O desenvolvimento é geralmente fechado ao público durante a maior parte do processo, sendo liberado apenas em versões prontas ou semi-prontas.\n",
    "\n",
    "*Características:*\n",
    "\n",
    "- Desenvolvimento hierárquico e centralizado.\n",
    "- Padrões rigorosos de controle de qualidade.\n",
    "- Código fonte não está disponível até que a versão seja lançada.\n",
    "- Decisões são tomadas por um grupo restrito de desenvolvedores.\n",
    "\n",
    "Exemplo clássico: Windows MacOS.\n",
    "\n",
    "- Vantagens:\n",
    "\n",
    "    - Maior controle sobre a qualidade e consistência do código.\n",
    "    - Processos mais organizados e previsíveis.\n",
    "    - Pode ser adequado para projetos que requerem alta segurança e estabilidade.\n",
    "\n",
    "- Desvantagens:\n",
    "\n",
    "    - Tempo de desenvolvimento mais lento.\n",
    "    - Menor inovação e adaptação a novas ideias.\n",
    "    - Menor contribuição da comunidade.\n",
    "\n"
   ]
  },
  {
   "cell_type": "markdown",
   "metadata": {},
   "source": [
    "# Modelo do Bazar\n",
    "Descrição: O modelo do Bazar adota uma abordagem aberta e colaborativa, onde o desenvolvimento é feito de forma descentralizada e qualquer pessoa pode contribuir. A filosofia é que \"dado um número suficiente de olhares, todos os bugs são triviais\" (Lei de Linus), ou seja, a abertura e a colaboração massiva ajudam a identificar e resolver problemas rapidamente.\n",
    "\n",
    "*Características:*\n",
    "\n",
    "- Desenvolvimento distribuído e aberto.\n",
    "- Muitas contribuições e revisões de uma comunidade diversificada.\n",
    "- Código fonte está sempre disponível, mesmo em estágios de desenvolvimento.\n",
    "- Decisões são frequentemente discutidas e tomadas em público.\n",
    "\n",
    "Exemplo clássico: Linux Kernel.\n",
    "\n",
    "- Vantagens:\n",
    "\n",
    "    - Rapidez na identificação e correção de bugs.\n",
    "    - Grande diversidade de ideias e inovações.\n",
    "    - Fortalecimento da comunidade e contribuição contínua.\n",
    "\n",
    "- Desvantagens:\n",
    "\n",
    "    - Potencial para menor controle sobre a qualidade do código.\n",
    "    - Necessidade de gerenciar uma comunidade maior e mais diversificada.\n",
    "    - Pode ser caótico e exigir coordenação cuidadosa.\n",
    "\n",
    "## Comparação e Aplicações\n",
    "### Catedral: \n",
    "Melhor para projetos que necessitam de alta consistência e controle centralizado, como sistemas críticos de segurança ou software corporativo.\n"
   ]
  },
  {
   "cell_type": "markdown",
   "metadata": {},
   "source": [
    "\n",
    "### Bazar: \n",
    "\n",
    "Ideal para projetos onde a inovação rápida, diversidade de contribuições e adaptação são prioritárias, como muitos projetos de software livre e código aberto.\n",
    "\n",
    "Ambos os modelos têm seus méritos e são utilizados conforme o contexto do projeto e os objetivos da equipe de desenvolvimento.\n",
    "Existem dois grandes modelos de desenvolvimento de sistemas computacionais. Um deles \n",
    "é o modelo de desenvolvimento de software. Em um deles temos uma estrutura centralizada que planeja o sistema como um todo. Esse sistema é representado pela catedral. No outro modelo temos um sistema não centralizado e com um organização mais fluida representado pelo bazar. \n",
    "\n",
    "Nesse contexto o Linux é o exemplo clássico de desenvolvimento tipo *bazar* e o *Windows* é o sistema típico da estratégia catedral. O caráter comercial não é o aspecto mais relevante, pois tanto Google como Apple usam sistemas que tem componentes mais próximos do modelo bazar. (Para mais detalhes: Eric Steven Raymond  http://www.catb.org/~esr/writings/cathedral-bazaar/cathedral-bazaar/)\n",
    "\n",
    " "
   ]
  },
  {
   "cell_type": "markdown",
   "metadata": {},
   "source": []
  }
 ],
 "metadata": {
  "celltoolbar": "Slideshow",
  "kernelspec": {
   "display_name": "Python 3 (Ubuntu Linux)",
   "language": "python",
   "name": "python3"
  },
  "language_info": {
   "codemirror_mode": {
    "name": "ipython",
    "version": 3
   },
   "file_extension": ".py",
   "mimetype": "text/x-python",
   "name": "python",
   "nbconvert_exporter": "python",
   "pygments_lexer": "ipython3",
   "version": "3.10.12"
  }
 },
 "nbformat": 4,
 "nbformat_minor": 0
}
