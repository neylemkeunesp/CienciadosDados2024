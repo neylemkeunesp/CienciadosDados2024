{
  "cells": [
    {
      "cell_type": "markdown",
      "metadata": {
        "colab_type": "text",
        "id": "view-in-github"
      },
      "source": [
        "<a href=\"https://colab.research.google.com/github/neylemkeunesp/CienciadosDados2022/blob/main/Aula04/ComandosLinux.ipynb\" target=\"_parent\"><img src=\"https://colab.research.google.com/assets/colab-badge.svg\" alt=\"Open In Colab\"/></a>"
      ]
    },
    {
      "cell_type": "markdown",
      "metadata": {
        "collapsed": false,
        "id": "YpgAvD2bFmkF"
      },
      "source": [
        "# Linux\n"
      ]
    },
    {
      "cell_type": "code",
      "execution_count": null,
      "metadata": {
        "id": "PvP8Fht3F_b3"
      },
      "outputs": [],
      "source": []
    },
    {
      "cell_type": "markdown",
      "metadata": {
        "id": "J-B2bhj3GYdD"
      },
      "source": [
        "\n",
        "\n",
        "\n",
        "## 1. Introdução aos Sistemas Operacionais\n",
        "\n",
        "Sistemas Operacionais são a espinha dorsal da maioria dos dispositivos que usamos hoje, desde smartphones até servidores que alimentam a internet. Eles atuam como intermediários entre o usuário e o hardware do dispositivo, tornando possível executar todos os tipos de software.\n",
        "\n",
        "### O que é um sistema operacional?\n",
        "\n",
        "Um **sistema operacional (SO)** é um conjunto de programas que, juntos, controlam o hardware do computador e fornecem serviços para programas de aplicação e usuários. Em essência, um SO tem duas funções principais:\n",
        "\n",
        "1. **Gerenciar o hardware do computador**, incluindo o CPU, memória, dispositivos de armazenamento e dispositivos de entrada/saída.\n",
        "2. **Prover um ambiente** no qual o usuário possa instalar e executar programas de aplicação de maneira conveniente.\n",
        "\n",
        "### Funções principais de um sistema operacional\n",
        "\n",
        "- **Gerenciamento de recursos**: Garante que os softwares recebam tempo adequado de CPU para executar tarefas, além de acesso direto à memória e dispositivos de armazenamento.\n",
        "- **Execução de programas**: Carrega programas na memória e agenda a execução de programas.\n",
        "- **Interface com o usuário**: Fornece uma interface amigável para os usuários interagirem com o computador, seja por meio de uma interface gráfica (GUI) ou linha de comando.\n",
        "\n"
      ]
    },
    {
      "cell_type": "markdown",
      "metadata": {
        "id": "t8KpH_YcGAH4"
      },
      "source": [
        "## Sistemas Operacionais\n",
        "1. **OS/360** (IBM System/360 Operating System)\n",
        "   - Criado por: IBM\n",
        "   - Data de Criação: 1966\n",
        "\n",
        "2. **CP/M** (Control Program for Microcomputers)\n",
        "   - Criado por: Gary Kildall da Digital Research, Inc.\n",
        "   - Data de Criação: 1974\n",
        "\n",
        "3. **Unix**\n",
        "   - Criado por: Ken Thompson e Dennis Ritchie no AT&T Bell Labs\n",
        "   - Data de Criação: 1969\n",
        "\n",
        "4. **MS-DOS** (Microsoft Disk Operating System)\n",
        "   - Criado por: Microsoft (baseado no QDOS da Seattle Computer Products)\n",
        "   - Data de Criação: 1981\n",
        "\n",
        "5. **Mac OS** (originalmente chamado System Software)\n",
        "   - Criado por: Apple Inc.\n",
        "   - Data de Criação: 1984 (como \"System 1\")\n",
        "\n",
        "6. **Windows**\n",
        "   - Criado por: Microsoft\n",
        "   - Data de Criação: 1985 (Windows 1.0)\n",
        "\n",
        "7. **Linux**\n",
        "   - Criado por: Linus Torvalds\n",
        "   - Data de Criação: 1991\n",
        "\n",
        "8. **FreeBSD**\n",
        "   - Criado a partir do Unix BSD (Berkeley Software Distribution)\n",
        "   - Data de Criação: 1993\n",
        "\n",
        "9. **Solaris**\n",
        "   - Originalmente desenvolvido pela Sun Microsystems, agora de propriedade da Oracle Corporation\n",
        "   - Data de Criação: 1992 (baseado no SunOS, que foi lançado em 1983)\n",
        "\n",
        "10. **OS/2**\n",
        "   - Criado por: IBM e Microsoft\n",
        "   - Data de Criação: 1987\n",
        "\n",
        "11. **Android**\n",
        "   - Criado por: Android Inc. (adquirido pelo Google)\n",
        "   - Data de Criação: 2008 (lançamento do primeiro dispositivo Android)\n",
        "\n",
        "12. **iOS**\n",
        "   - Criado por: Apple Inc.\n",
        "   - Data de Criação: 2007 (lançado com o primeiro iPhone)\n",
        "\n",
        "Estas são apenas algumas das muitas plataformas de sistemas operacionais que foram desenvolvidas ao longo dos anos. Existem muitos outros sistemas, tanto para grandes máquinas como mainframes, quanto para dispositivos mais específicos e embutidos."
      ]
    },
    {
      "cell_type": "markdown",
      "metadata": {
        "id": "rMIFsFiiGnZ4"
      },
      "source": [
        "# História do Linux\n",
        "\n",
        "O Linux é um dos sistemas operacionais de código aberto mais populares e amplamente utilizados do mundo. Sua história é fascinante e é um testemunho da colaboração global e da paixão pela liberdade de software.\n",
        "\n",
        "## Origens\n",
        "\n",
        "### 1. UNIX\n",
        "\n",
        "A história do Linux começa, indiretamente, com o UNIX, um sistema operacional desenvolvido na década de 1960 por Ken Thompson e Dennis Ritchie no AT&T Bell Labs. O UNIX rapidamente se tornou popular em universidades devido à sua filosofia de simplicidade e ao código-fonte acessível. Foi a partir do UNIX que emergiram conceitos que seriam herdados pelo Linux.\n",
        "\n",
        "### 2. Projeto GNU\n",
        "\n",
        "Em 1983, Richard Stallman iniciou o projeto GNU (GNU's Not UNIX) com o objetivo de criar um sistema operacional livre semelhante ao UNIX. Stallman e sua equipe desenvolveram várias ferramentas e aplicativos essenciais, mas faltava um núcleo (kernel) para o projeto GNU.\n",
        "\n",
        "## O Nascimento do Linux\n",
        "\n",
        "### 1. Linus Torvalds\n",
        "\n",
        "Em 1991, um estudante finlandês chamado Linus Torvalds começou a trabalhar em seu próprio projeto. Inspirado pelo Minix (um pequeno sistema UNIX para fins educacionais desenvolvido por Andrew Tanenbaum), Linus desejava criar um novo sistema operacional que pudesse superar as limitações do Minix.\n",
        "\n",
        "![Linus](https://regmedia.co.uk/2016/08/26/torvalds.jpg?x=648&y=348&crop=1)\n",
        "\n",
        "### 2. Primeiro Anúncio\n",
        "\n",
        "Em 25 de agosto de 1991, Linus fez um famoso anúncio na lista de discussão comp.os.minix:\n",
        "\n",
        "> \"Estou fazendo um sistema operacional (apenas um hobby, não será grande e profissional como o GNU) para clones AT 386 (486).\"\n",
        "\n",
        "### 3. Versão 0.01\n",
        "\n",
        "Em setembro de 1991, Linus lançou a versão 0.01 do Linux. Não era funcional para a maioria dos usuários, mas o código-fonte estava disponível e os programadores começaram a contribuir e expandir o projeto.\n",
        "\n",
        "### 4. Nome \"Linux\"\n",
        "\n",
        "O projeto foi nomeado \"Linux\" por Ari Lemmke, que organizava o FTP onde o kernel era originalmente hospedado. Linus inicialmente chamou o projeto de \"Freax\", uma combinação de \"freak\", \"free\" e o \"X\" de UNIX.\n",
        "\n",
        "## Crescimento e Desenvolvimento\n",
        "\n",
        "Através da década de 1990, o Linux viu um rápido desenvolvimento e adoção. Combinado com as ferramentas GNU, ele se tornou um sistema operacional completo. As distribuições começaram a surgir, como Slackware, Debian, e Red Hat, facilitando a instalação e uso por usuários menos experientes.\n",
        "\n",
        "## Popularidade e Uso Atual\n",
        "\n",
        "Hoje, o Linux é usado em uma variedade de aplicações, desde servidores de internet, smartphones (via Android), supercomputadores, até dispositivos embarcados. Empresas como Google, Amazon e IBM dependem do Linux para suas operações.\n",
        "\n",
        "Além disso, a comunidade de código aberto ao redor do Linux continua a crescer, com milhares de colaboradores de todo o mundo.\n",
        "\n"
      ]
    },
    {
      "cell_type": "markdown",
      "metadata": {
        "collapsed": false,
        "id": "li3H6lAwFmkI"
      },
      "source": [
        "- Sistemas Operacionais\n",
        "    - Unix\n",
        "    - Windows\n",
        "    - Linux"
      ]
    },
    {
      "cell_type": "markdown",
      "metadata": {
        "id": "rfhyD1M6G0sk"
      },
      "source": [
        "## GNU\n",
        "\n",
        "Richard Stallman é uma das figuras mais influentes no mundo do software livre e de código aberto. Enquanto Linus Torvalds é frequentemente associado ao desenvolvimento do kernel Linux, Richard Stallman e o projeto GNU desempenharam um papel crucial na formação do ecossistema de software livre que frequentemente usamos hoje.\n",
        "\n",
        "![Stalllman](https://torrentfreak.com/images/stallman.jpg)\n",
        "\n",
        "Aqui está uma visão geral do papel de Richard Stallman e suas principais contribuições:\n",
        "\n",
        "## 1. **O Projeto GNU**\n",
        "Em 1983, Richard Stallman anunciou o início do Projeto GNU (GNU's Not UNIX). O objetivo do projeto era criar um sistema operacional completamente livre e de código aberto que fosse semelhante, mas não baseado, no Unix. Muitas das ferramentas e aplicativos essenciais que são usados em sistemas Linux hoje são originários do Projeto GNU.\n",
        "\n",
        "## 2. **Licença Pública Geral GNU (GPL)**\n",
        "Stallman introduziu a GPL (GNU General Public License) em 1989. Esta licença desempenhou um papel vital na promoção e proteção do software como um bem público, garantindo que ele permanecesse livre e aberto. A GPL foi fundamental para moldar a maneira como o software de código aberto é distribuído e modificado, garantindo que as liberdades fundamentais sejam preservadas.\n",
        "\n",
        "## 3. **Fundação do Free Software Foundation (FSF)**\n",
        "Em 1985, Stallman fundou a Free Software Foundation (FSF). A FSF desempenhou (e continua desempenhando) um papel crucial na promoção do software livre, na defesa dos direitos dos usuários e na orientação legal sobre questões relacionadas ao software livre e de código aberto.\n",
        "\n",
        "## 4. **Definição de Software Livre**\n",
        "Stallman é famoso por distinguir entre \"livre como em liberdade\" e \"livre como em cerveja grátis\". Ele definiu software livre não apenas como software que é gratuito, mas como software que dá aos usuários a liberdade de executar, copiar, distribuir, estudar, modificar e melhorar o software.\n",
        "\n",
        "## 5. **Emacs**\n",
        "Antes do projeto GNU, em 1984, Stallman lançou a primeira versão do GNU Emacs, um extensível e altamente personalizável editor de texto. O Emacs não é apenas um editor de texto, mas uma plataforma para construir sistemas interativos. Ele é amplamente utilizado até hoje e tem uma comunidade ativa.\n",
        "\n",
        "## 6. **Crítica ao Software Proprietário**\n",
        "Stallman tem sido uma voz crítica ao software proprietário, patentes de software e restrições digitais de gestão (DRM). Ele argumenta que esses instrumentos restringem as liberdades dos usuários e são incompatíveis com os ideais do software livre.\n"
      ]
    },
    {
      "cell_type": "markdown",
      "metadata": {
        "collapsed": false,
        "id": "nRY6stVBFmkK"
      },
      "source": [
        "### Interação com o SO\n",
        "- Linha de Comando\n",
        "    - bash\n",
        "    - zsh\n",
        "    - powershell\n",
        "- Interface Gráfica\n",
        "    - windows\n",
        "    - X11"
      ]
    },
    {
      "cell_type": "markdown",
      "metadata": {
        "collapsed": false,
        "id": "pEOVswO_FmkK"
      },
      "source": [
        "## Shell"
      ]
    },
    {
      "cell_type": "markdown",
      "metadata": {
        "collapsed": false,
        "id": "paxinT1wFmkK"
      },
      "source": [
        "O Colab versão Free permite que você acesse a um terminal Linux:\n",
        "\n"
      ]
    },
    {
      "cell_type": "code",
      "execution_count": null,
      "metadata": {
        "id": "IUaUFCbVFmkK",
        "outputId": "0fd05bb2-9fbb-4d34-be49-c37e40b067cf"
      },
      "outputs": [
        {
          "name": "stdout",
          "output_type": "stream",
          "text": [
            "Defaulting to user installation because normal site-packages is not writeable\n",
            "Collecting colab-xterm\n",
            "  Downloading colab_xterm-0.1.2-py3-none-any.whl (115 kB)\n",
            "\u001b[2K     \u001b[90m━━━━━━━━━━━━━━━━━━━━━━━━━━━━━━━━━━━━━━━\u001b[0m \u001b[32m115.3/115.3 kB\u001b[0m \u001b[31m5.8 MB/s\u001b[0m eta \u001b[36m0:00:00\u001b[0m\n",
            "\u001b[?25hRequirement already satisfied: ptyprocess~=0.7.0 in /home/lemke/.local/lib/python3.8/site-packages (from colab-xterm) (0.7.0)\n",
            "Requirement already satisfied: tornado>5.1 in /home/lemke/.local/lib/python3.8/site-packages (from colab-xterm) (6.2)\n",
            "Installing collected packages: colab-xterm\n",
            "Successfully installed colab-xterm-0.1.2\n"
          ]
        },
        {
          "data": {
            "text/plain": [
              "Launching Xterm..."
            ]
          },
          "metadata": {},
          "output_type": "display_data"
        },
        {
          "ename": "FileNotFoundError",
          "evalue": "[Errno 2] No such file or directory: 'python'",
          "output_type": "error",
          "traceback": [
            "\u001b[0;31m---------------------------------------------------------------------------\u001b[0m",
            "\u001b[0;31mFileNotFoundError\u001b[0m                         Traceback (most recent call last)",
            "Cell \u001b[0;32mIn [1], line 4\u001b[0m\n\u001b[1;32m      2\u001b[0m get_ipython()\u001b[39m.\u001b[39msystem(\u001b[39m'\u001b[39m\u001b[39mpip install colab-xterm\u001b[39m\u001b[39m'\u001b[39m)\n\u001b[1;32m      3\u001b[0m get_ipython()\u001b[39m.\u001b[39mrun_line_magic(\u001b[39m'\u001b[39m\u001b[39mload_ext\u001b[39m\u001b[39m'\u001b[39m, \u001b[39m'\u001b[39m\u001b[39mcolabxterm\u001b[39m\u001b[39m'\u001b[39m)\n\u001b[0;32m----> 4\u001b[0m get_ipython()\u001b[39m.\u001b[39;49mrun_line_magic(\u001b[39m'\u001b[39;49m\u001b[39mxterm\u001b[39;49m\u001b[39m'\u001b[39;49m, \u001b[39m'\u001b[39;49m\u001b[39m'\u001b[39;49m)\n",
            "File \u001b[0;32m~/.local/lib/python3.8/site-packages/IPython/core/interactiveshell.py:2309\u001b[0m, in \u001b[0;36mInteractiveShell.run_line_magic\u001b[0;34m(self, magic_name, line, _stack_depth)\u001b[0m\n\u001b[1;32m   2307\u001b[0m     kwargs[\u001b[39m'\u001b[39m\u001b[39mlocal_ns\u001b[39m\u001b[39m'\u001b[39m] \u001b[39m=\u001b[39m \u001b[39mself\u001b[39m\u001b[39m.\u001b[39mget_local_scope(stack_depth)\n\u001b[1;32m   2308\u001b[0m \u001b[39mwith\u001b[39;00m \u001b[39mself\u001b[39m\u001b[39m.\u001b[39mbuiltin_trap:\n\u001b[0;32m-> 2309\u001b[0m     result \u001b[39m=\u001b[39m fn(\u001b[39m*\u001b[39;49margs, \u001b[39m*\u001b[39;49m\u001b[39m*\u001b[39;49mkwargs)\n\u001b[1;32m   2310\u001b[0m \u001b[39mreturn\u001b[39;00m result\n",
            "File \u001b[0;32m~/.local/lib/python3.8/site-packages/colabxterm/notebook.py:84\u001b[0m, in \u001b[0;36m_xterm_magic\u001b[0;34m(args_string)\u001b[0m\n\u001b[1;32m     81\u001b[0m         \u001b[39mbreak\u001b[39;00m\n\u001b[1;32m     82\u001b[0m     port \u001b[39m=\u001b[39m port\u001b[39m+\u001b[39m\u001b[39m1\u001b[39m\n\u001b[0;32m---> 84\u001b[0m manager\u001b[39m.\u001b[39;49mstart(parsed_args, port)\n\u001b[1;32m     85\u001b[0m fn \u001b[39m=\u001b[39m {\n\u001b[1;32m     86\u001b[0m     _CONTEXT_COLAB: _display_colab,\n\u001b[1;32m     87\u001b[0m     _CONTEXT_IPYTHON: _display_ipython,\n\u001b[1;32m     88\u001b[0m     _CONTEXT_NONE: _display_cli,\n\u001b[1;32m     89\u001b[0m }[_get_context()]\n\u001b[1;32m     90\u001b[0m \u001b[39mreturn\u001b[39;00m fn(port\u001b[39m=\u001b[39mport, height\u001b[39m=\u001b[39mheight)\n",
            "File \u001b[0;32m~/.local/lib/python3.8/site-packages/colabxterm/manager.py:52\u001b[0m, in \u001b[0;36mstart\u001b[0;34m(arguments, port, timeout)\u001b[0m\n\u001b[1;32m     51\u001b[0m \u001b[39mdef\u001b[39;00m \u001b[39mstart\u001b[39m(arguments, port, timeout\u001b[39m=\u001b[39mdatetime\u001b[39m.\u001b[39mtimedelta(seconds\u001b[39m=\u001b[39m\u001b[39m60\u001b[39m)):\n\u001b[0;32m---> 52\u001b[0m     p \u001b[39m=\u001b[39m subprocess\u001b[39m.\u001b[39;49mPopen(\n\u001b[1;32m     53\u001b[0m         [\u001b[39m\"\u001b[39;49m\u001b[39mpython\u001b[39;49m\u001b[39m\"\u001b[39;49m, \u001b[39m\"\u001b[39;49m\u001b[39m-m\u001b[39;49m\u001b[39m\"\u001b[39;49m, \u001b[39m\"\u001b[39;49m\u001b[39mcolabxterm\u001b[39;49m\u001b[39m\"\u001b[39;49m, \u001b[39m\"\u001b[39;49m\u001b[39m--port\u001b[39;49m\u001b[39m\"\u001b[39;49m, \u001b[39mstr\u001b[39;49m(port)] \u001b[39m+\u001b[39;49m arguments,\n\u001b[1;32m     54\u001b[0m     )\n\u001b[1;32m     56\u001b[0m     poll_interval_seconds \u001b[39m=\u001b[39m \u001b[39m0.5\u001b[39m\n\u001b[1;32m     57\u001b[0m     \u001b[39mwhile\u001b[39;00m \u001b[39mTrue\u001b[39;00m:\n",
            "File \u001b[0;32m/usr/lib/python3.8/subprocess.py:858\u001b[0m, in \u001b[0;36mPopen.__init__\u001b[0;34m(self, args, bufsize, executable, stdin, stdout, stderr, preexec_fn, close_fds, shell, cwd, env, universal_newlines, startupinfo, creationflags, restore_signals, start_new_session, pass_fds, encoding, errors, text)\u001b[0m\n\u001b[1;32m    854\u001b[0m         \u001b[39mif\u001b[39;00m \u001b[39mself\u001b[39m\u001b[39m.\u001b[39mtext_mode:\n\u001b[1;32m    855\u001b[0m             \u001b[39mself\u001b[39m\u001b[39m.\u001b[39mstderr \u001b[39m=\u001b[39m io\u001b[39m.\u001b[39mTextIOWrapper(\u001b[39mself\u001b[39m\u001b[39m.\u001b[39mstderr,\n\u001b[1;32m    856\u001b[0m                     encoding\u001b[39m=\u001b[39mencoding, errors\u001b[39m=\u001b[39merrors)\n\u001b[0;32m--> 858\u001b[0m     \u001b[39mself\u001b[39;49m\u001b[39m.\u001b[39;49m_execute_child(args, executable, preexec_fn, close_fds,\n\u001b[1;32m    859\u001b[0m                         pass_fds, cwd, env,\n\u001b[1;32m    860\u001b[0m                         startupinfo, creationflags, shell,\n\u001b[1;32m    861\u001b[0m                         p2cread, p2cwrite,\n\u001b[1;32m    862\u001b[0m                         c2pread, c2pwrite,\n\u001b[1;32m    863\u001b[0m                         errread, errwrite,\n\u001b[1;32m    864\u001b[0m                         restore_signals, start_new_session)\n\u001b[1;32m    865\u001b[0m \u001b[39mexcept\u001b[39;00m:\n\u001b[1;32m    866\u001b[0m     \u001b[39m# Cleanup if the child failed starting.\u001b[39;00m\n\u001b[1;32m    867\u001b[0m     \u001b[39mfor\u001b[39;00m f \u001b[39min\u001b[39;00m \u001b[39mfilter\u001b[39m(\u001b[39mNone\u001b[39;00m, (\u001b[39mself\u001b[39m\u001b[39m.\u001b[39mstdin, \u001b[39mself\u001b[39m\u001b[39m.\u001b[39mstdout, \u001b[39mself\u001b[39m\u001b[39m.\u001b[39mstderr)):\n",
            "File \u001b[0;32m/usr/lib/python3.8/subprocess.py:1704\u001b[0m, in \u001b[0;36mPopen._execute_child\u001b[0;34m(self, args, executable, preexec_fn, close_fds, pass_fds, cwd, env, startupinfo, creationflags, shell, p2cread, p2cwrite, c2pread, c2pwrite, errread, errwrite, restore_signals, start_new_session)\u001b[0m\n\u001b[1;32m   1702\u001b[0m     \u001b[39mif\u001b[39;00m errno_num \u001b[39m!=\u001b[39m \u001b[39m0\u001b[39m:\n\u001b[1;32m   1703\u001b[0m         err_msg \u001b[39m=\u001b[39m os\u001b[39m.\u001b[39mstrerror(errno_num)\n\u001b[0;32m-> 1704\u001b[0m     \u001b[39mraise\u001b[39;00m child_exception_type(errno_num, err_msg, err_filename)\n\u001b[1;32m   1705\u001b[0m \u001b[39mraise\u001b[39;00m child_exception_type(err_msg)\n",
            "\u001b[0;31mFileNotFoundError\u001b[0m: [Errno 2] No such file or directory: 'python'"
          ]
        }
      ],
      "source": [
        "#so funciona no colab\n",
        "!pip install colab-xterm\n",
        "%load_ext colabxterm\n",
        "%xterm"
      ]
    },
    {
      "cell_type": "markdown",
      "metadata": {
        "collapsed": false,
        "id": "UGhp9ZNpFmkM"
      },
      "source": [
        "### Comandos linux"
      ]
    },
    {
      "cell_type": "markdown",
      "metadata": {
        "collapsed": false,
        "id": "fR_kza_qFmkM"
      },
      "source": [
        "#### Estrutura de um comando Linux\n",
        "\n",
        "```bash\n",
        "comando -opcoes argumentos\n",
        "```\n",
        "\n",
        "**Analogia:**\n",
        "\n",
        "O comando é o verbo, as opções são o adverbio e os argumentos são o objeto.\n",
        "\n",
        "**Exemplo:**\n",
        "\n",
        "\n",
        "```bash\n",
        "ls -l *.txt\n",
        "```\n",
        "\n",
        "Nesse exemplo `ls` lista os diretórios `-l` indica que devemos apresentar todas as informações\n",
        "e `*.txt` diz quais arquivos devemos listar.\n",
        "\n",
        "**Nota:** Se temos várias opções, elas podem ser indicadas sucessivamente sem espaços\n",
        "\n",
        "**Exemplo:**\n",
        "\n",
        "```bash\n",
        "ls -la\n",
        "```\n"
      ]
    },
    {
      "cell_type": "markdown",
      "metadata": {
        "collapsed": false,
        "id": "lfkobkTxFmkM"
      },
      "source": [
        "#### Arquivos\n",
        "##### ls\n",
        "Lista os arquivos em um diretório\n",
        "-l lista os arquivos com todas as informações\n",
        "-a lista todos os arquivos\n",
        "##### cp\n",
        "copia arquivos\n",
        "##### mv\n",
        "move arquivos\n",
        "##### rm\n",
        "remove arquivos\n",
        "##### mkdir\n",
        "cria um diretorio\n",
        "##### cd\n",
        "muda de diretorio\n",
        "\n",
        "~ diretório home\n",
        "\n",
        ".. sobe um nível\n",
        "\n",
        ". representa o diretório atual\n",
        "\n",
        "##### zip, gzip\n",
        "comprime arquivos\n",
        "\n",
        "##### file\n",
        "descreve arquivo"
      ]
    },
    {
      "cell_type": "markdown",
      "metadata": {
        "collapsed": false,
        "id": "WwJ-rgNgFmkM"
      },
      "source": [
        "#### Visualização de arquivos\n",
        "##### more\n",
        "mostra os arquivos\n",
        "##### less\n",
        "mostra os arquivos\n",
        "##### wc\n",
        "conta as palavras\n",
        "##### head\n",
        "mostra as primeiras linhas de um arquivo\n",
        "##### tail\n",
        "mostra as ultimas linhas de um arquivo\n",
        "#### cat\n",
        "concatena arquivos\n",
        "```bash\n",
        "cat arq1 arq2\n",
        "```\n",
        "\n",
        "concatena arq1 e arq2\n",
        "##### grep\n",
        "seleciona linhas com determinadas caracteristicas"
      ]
    },
    {
      "cell_type": "markdown",
      "metadata": {
        "collapsed": false,
        "id": "LG20h24HFmkN"
      },
      "source": [
        "#### Redes\n",
        "##### ping\n",
        "manda um pacote para uym endereço\n",
        "##### ifconfig\n",
        "decobre os parâmetros de rede\n",
        "##### ssh\n",
        "acessa um computador remoto\n",
        "##### scp\n",
        "realiza uma copia remota"
      ]
    },
    {
      "cell_type": "markdown",
      "metadata": {
        "collapsed": false,
        "id": "IqNEQM-AFmkN"
      },
      "source": [
        "#### Redirecionamento\n",
        "##### >\n",
        "##### >>\n",
        "##### |\n",
        "##### <\n",
        "#### `command`"
      ]
    },
    {
      "cell_type": "markdown",
      "metadata": {
        "collapsed": false,
        "id": "6UXS2D7pFmkN"
      },
      "source": [
        "#### Editor\n",
        "##### nano"
      ]
    },
    {
      "cell_type": "markdown",
      "metadata": {
        "collapsed": false,
        "id": "kOlCxgG0FmkN"
      },
      "source": [
        "#### Ajuda\n",
        "##### man"
      ]
    },
    {
      "cell_type": "markdown",
      "metadata": {
        "collapsed": false,
        "id": "P7I7miCCFmkN"
      },
      "source": [
        "#### Processos\n",
        "##### top\n",
        "lista os processos em execução\n",
        "##### kill\n",
        "mata os processos\n",
        "##### Ctrl-C\n",
        "##### Ctrl-Z\n",
        "##### shutdown\n",
        "põe o computador para dormir\n",
        "##### ps"
      ]
    },
    {
      "cell_type": "markdown",
      "metadata": {
        "collapsed": false,
        "id": "osSnwe_3FmkN"
      },
      "source": [
        "#### Variados\n",
        "##### find\n",
        "encontra arquivos\n",
        "##### date\n",
        "data\n",
        "##### echo\n",
        "imprime na tela\n",
        "##### yes\n",
        "imprime y"
      ]
    },
    {
      "cell_type": "markdown",
      "metadata": {
        "collapsed": false,
        "id": "S4D_wrz1FmkN"
      },
      "source": [
        "#### wildcards\n",
        "##### *\n",
        "##### ?\n",
        "``` bash\n",
        "`comando`\n",
        "```"
      ]
    },
    {
      "cell_type": "markdown",
      "metadata": {
        "collapsed": true,
        "id": "wLy0XdepFmkN"
      },
      "source": [
        "## Exercícios\n",
        "\n",
        "1. Liste os arquivos de um diretório por data de modificação, inicie pelo mais atual.\n",
        "2. Gere um arquivo com 20 linhas. Imprima as linhas 3 até 10.\n",
        "3. Use o comando date para salvar o resultado do comando ls em um arquivo chamado lista_min_seg. Onde min e seg são o minuto e o segundo.\n",
        "4. Exiba apenas os diretórios no diretório atual.\n",
        "5. Gere 12 diretórios com nomeados como  nome_mes. \n",
        "6. Desafio. Inclua em cada diretório um arquivo para cada dia do mês corrrespondente. Esse arquivo deve incluir a linha \"Fui feliz\". \n",
        "7. Encontre todos os arquivos com extensão .txt no diretório atual e em todos os subdiretórios.\n",
        "8. Conte o numero de linhas de cada arquivo. \n",
        "\n"
      ]
    },
    {
      "cell_type": "markdown",
      "metadata": {},
      "source": []
    }
  ],
  "metadata": {
    "colab": {
      "include_colab_link": true,
      "provenance": []
    },
    "kernelspec": {
      "display_name": "Python 3",
      "language": "python",
      "name": "python3"
    },
    "language_info": {
      "codemirror_mode": {
        "name": "ipython",
        "version": 3
      },
      "file_extension": ".py",
      "mimetype": "text/x-python",
      "name": "python",
      "nbconvert_exporter": "python",
      "pygments_lexer": "ipython3",
      "version": "3.8.10"
    },
    "vscode": {
      "interpreter": {
        "hash": "916dbcbb3f70747c44a77c7bcd40155683ae19c65e1c03b4aa3499c5328201f1"
      }
    }
  },
  "nbformat": 4,
  "nbformat_minor": 0
}
